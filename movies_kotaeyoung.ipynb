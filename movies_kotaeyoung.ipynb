{
 "cells": [
  {
   "cell_type": "markdown",
   "metadata": {},
   "source": [
    "# EDA & 전처리"
   ]
  },
  {
   "cell_type": "markdown",
   "metadata": {},
   "source": [
    "&nbsp;"
   ]
  },
  {
   "cell_type": "markdown",
   "metadata": {},
   "source": [
    "## library and road data"
   ]
  },
  {
   "cell_type": "code",
   "execution_count": 1,
   "metadata": {},
   "outputs": [],
   "source": [
    "import pandas as pd\n",
    "import numpy as np\n",
    "\n",
    "import matplotlib.pyplot as plt\n",
    "import seaborn as sns\n",
    "\n",
    "import os\n",
    "import re"
   ]
  },
  {
   "cell_type": "code",
   "execution_count": 143,
   "metadata": {},
   "outputs": [],
   "source": [
    "from sklearn.linear_model import LinearRegression\n",
    "from sklearn.linear_model import Lasso\n",
    "from sklearn.linear_model import Ridge\n",
    "from sklearn.linear_model import ElasticNet\n",
    "from sklearn.neighbors import KNeighborsRegressor\n",
    "from sklearn.tree import DecisionTreeRegressor\n",
    "from sklearn.ensemble import GradientBoostingRegressor\n",
    "from sklearn.ensemble import AdaBoostRegressor\n",
    "from sklearn.ensemble import BaggingRegressor\n",
    "\n",
    "from sklearn.preprocessing import MinMaxScaler, StandardScaler\n",
    "from sklearn.model_selection import train_test_split\n",
    "from sklearn.model_selection import RandomizedSearchCV \n",
    "from sklearn.metrics import accuracy_score\n",
    "from sklearn.metrics import mean_squared_error\n",
    "from sklearn.utils import shuffle\n",
    "from scipy.special import erfc\n",
    "from sklearn.dummy import DummyRegressor\n",
    "from sklearn.svm import SVR\n",
    "\n",
    "from sklearn.model_selection import KFold\n",
    "from sklearn.model_selection import cross_val_score\n",
    "\n",
    "from sklearn.model_selection import train_test_split, cross_validate, RandomizedSearchCV\n",
    "from sklearn.metrics import accuracy_score, precision_score, recall_score, confusion_matrix, mean_squared_error, r2_score\n",
    "from sklearn.ensemble import RandomForestClassifier, GradientBoostingClassifier, RandomForestRegressor, VotingRegressor\n",
    "\n",
    "from lightgbm import LGBMRegressor\n",
    "\n",
    "import xgboost as xgb\n",
    "from xgboost import XGBClassifier, XGBRegressor\n",
    "\n",
    "import warnings"
   ]
  },
  {
   "cell_type": "markdown",
   "metadata": {},
   "source": [
    "&nbsp;"
   ]
  },
  {
   "cell_type": "code",
   "execution_count": 286,
   "metadata": {},
   "outputs": [],
   "source": [
    "movies_train = pd.read_csv('movies_train.csv')\n",
    "movies_test = pd.read_csv('movies_test.csv')\n",
    "submission = pd.read_csv('submission.csv')"
   ]
  },
  {
   "cell_type": "code",
   "execution_count": 287,
   "metadata": {},
   "outputs": [
    {
     "data": {
      "text/html": [
       "<div>\n",
       "<style scoped>\n",
       "    .dataframe tbody tr th:only-of-type {\n",
       "        vertical-align: middle;\n",
       "    }\n",
       "\n",
       "    .dataframe tbody tr th {\n",
       "        vertical-align: top;\n",
       "    }\n",
       "\n",
       "    .dataframe thead th {\n",
       "        text-align: right;\n",
       "    }\n",
       "</style>\n",
       "<table border=\"1\" class=\"dataframe\">\n",
       "  <thead>\n",
       "    <tr style=\"text-align: right;\">\n",
       "      <th></th>\n",
       "      <th>title</th>\n",
       "      <th>distributor</th>\n",
       "      <th>genre</th>\n",
       "      <th>release_time</th>\n",
       "      <th>time</th>\n",
       "      <th>screening_rat</th>\n",
       "      <th>director</th>\n",
       "      <th>dir_prev_bfnum</th>\n",
       "      <th>dir_prev_num</th>\n",
       "      <th>num_staff</th>\n",
       "      <th>num_actor</th>\n",
       "      <th>box_off_num</th>\n",
       "    </tr>\n",
       "  </thead>\n",
       "  <tbody>\n",
       "    <tr>\n",
       "      <th>0</th>\n",
       "      <td>개들의 전쟁</td>\n",
       "      <td>롯데엔터테인먼트</td>\n",
       "      <td>액션</td>\n",
       "      <td>2012-11-22</td>\n",
       "      <td>96</td>\n",
       "      <td>청소년 관람불가</td>\n",
       "      <td>조병옥</td>\n",
       "      <td>NaN</td>\n",
       "      <td>0</td>\n",
       "      <td>91</td>\n",
       "      <td>2</td>\n",
       "      <td>23398</td>\n",
       "    </tr>\n",
       "    <tr>\n",
       "      <th>1</th>\n",
       "      <td>내부자들</td>\n",
       "      <td>(주)쇼박스</td>\n",
       "      <td>느와르</td>\n",
       "      <td>2015-11-19</td>\n",
       "      <td>130</td>\n",
       "      <td>청소년 관람불가</td>\n",
       "      <td>우민호</td>\n",
       "      <td>1161602.50</td>\n",
       "      <td>2</td>\n",
       "      <td>387</td>\n",
       "      <td>3</td>\n",
       "      <td>7072501</td>\n",
       "    </tr>\n",
       "    <tr>\n",
       "      <th>2</th>\n",
       "      <td>은밀하게 위대하게</td>\n",
       "      <td>(주)쇼박스</td>\n",
       "      <td>액션</td>\n",
       "      <td>2013-06-05</td>\n",
       "      <td>123</td>\n",
       "      <td>15세 관람가</td>\n",
       "      <td>장철수</td>\n",
       "      <td>220775.25</td>\n",
       "      <td>4</td>\n",
       "      <td>343</td>\n",
       "      <td>4</td>\n",
       "      <td>6959083</td>\n",
       "    </tr>\n",
       "  </tbody>\n",
       "</table>\n",
       "</div>"
      ],
      "text/plain": [
       "       title distributor genre release_time  time screening_rat director  \\\n",
       "0     개들의 전쟁    롯데엔터테인먼트    액션   2012-11-22    96      청소년 관람불가      조병옥   \n",
       "1       내부자들      (주)쇼박스   느와르   2015-11-19   130      청소년 관람불가      우민호   \n",
       "2  은밀하게 위대하게      (주)쇼박스    액션   2013-06-05   123       15세 관람가      장철수   \n",
       "\n",
       "   dir_prev_bfnum  dir_prev_num  num_staff  num_actor  box_off_num  \n",
       "0             NaN             0         91          2        23398  \n",
       "1      1161602.50             2        387          3      7072501  \n",
       "2       220775.25             4        343          4      6959083  "
      ]
     },
     "execution_count": 287,
     "metadata": {},
     "output_type": "execute_result"
    }
   ],
   "source": [
    "movies_train.head(3)  \n",
    "#dir_prev_bfnum: 해당 감독이 이 영화를 만들기 전 제작에 참여한 영화에서의 평균 관객수\n",
    "#dir_prev_num: 해당 감독이 이 영화를 만들기 전 제작에 참여한 영화의 개수"
   ]
  },
  {
   "cell_type": "code",
   "execution_count": 288,
   "metadata": {},
   "outputs": [
    {
     "data": {
      "text/html": [
       "<div>\n",
       "<style scoped>\n",
       "    .dataframe tbody tr th:only-of-type {\n",
       "        vertical-align: middle;\n",
       "    }\n",
       "\n",
       "    .dataframe tbody tr th {\n",
       "        vertical-align: top;\n",
       "    }\n",
       "\n",
       "    .dataframe thead th {\n",
       "        text-align: right;\n",
       "    }\n",
       "</style>\n",
       "<table border=\"1\" class=\"dataframe\">\n",
       "  <thead>\n",
       "    <tr style=\"text-align: right;\">\n",
       "      <th></th>\n",
       "      <th>title</th>\n",
       "      <th>distributor</th>\n",
       "      <th>genre</th>\n",
       "      <th>release_time</th>\n",
       "      <th>time</th>\n",
       "      <th>screening_rat</th>\n",
       "      <th>director</th>\n",
       "      <th>dir_prev_bfnum</th>\n",
       "      <th>dir_prev_num</th>\n",
       "      <th>num_staff</th>\n",
       "      <th>num_actor</th>\n",
       "    </tr>\n",
       "  </thead>\n",
       "  <tbody>\n",
       "    <tr>\n",
       "      <th>0</th>\n",
       "      <td>용서는 없다</td>\n",
       "      <td>시네마서비스</td>\n",
       "      <td>느와르</td>\n",
       "      <td>2010-01-07</td>\n",
       "      <td>125</td>\n",
       "      <td>청소년 관람불가</td>\n",
       "      <td>김형준</td>\n",
       "      <td>3.005290e+05</td>\n",
       "      <td>2</td>\n",
       "      <td>304</td>\n",
       "      <td>3</td>\n",
       "    </tr>\n",
       "    <tr>\n",
       "      <th>1</th>\n",
       "      <td>아빠가 여자를 좋아해</td>\n",
       "      <td>(주)쇼박스</td>\n",
       "      <td>멜로/로맨스</td>\n",
       "      <td>2010-01-14</td>\n",
       "      <td>113</td>\n",
       "      <td>12세 관람가</td>\n",
       "      <td>이광재</td>\n",
       "      <td>3.427002e+05</td>\n",
       "      <td>4</td>\n",
       "      <td>275</td>\n",
       "      <td>3</td>\n",
       "    </tr>\n",
       "    <tr>\n",
       "      <th>2</th>\n",
       "      <td>하모니</td>\n",
       "      <td>CJ 엔터테인먼트</td>\n",
       "      <td>드라마</td>\n",
       "      <td>2010-01-28</td>\n",
       "      <td>115</td>\n",
       "      <td>12세 관람가</td>\n",
       "      <td>강대규</td>\n",
       "      <td>4.206611e+06</td>\n",
       "      <td>3</td>\n",
       "      <td>419</td>\n",
       "      <td>7</td>\n",
       "    </tr>\n",
       "  </tbody>\n",
       "</table>\n",
       "</div>"
      ],
      "text/plain": [
       "         title distributor   genre release_time  time screening_rat director  \\\n",
       "0       용서는 없다      시네마서비스     느와르   2010-01-07   125      청소년 관람불가      김형준   \n",
       "1  아빠가 여자를 좋아해      (주)쇼박스  멜로/로맨스   2010-01-14   113       12세 관람가      이광재   \n",
       "2          하모니   CJ 엔터테인먼트     드라마   2010-01-28   115       12세 관람가      강대규   \n",
       "\n",
       "   dir_prev_bfnum  dir_prev_num  num_staff  num_actor  \n",
       "0    3.005290e+05             2        304          3  \n",
       "1    3.427002e+05             4        275          3  \n",
       "2    4.206611e+06             3        419          7  "
      ]
     },
     "execution_count": 288,
     "metadata": {},
     "output_type": "execute_result"
    }
   ],
   "source": [
    "movies_test.head(3)"
   ]
  },
  {
   "cell_type": "markdown",
   "metadata": {},
   "source": [
    "train set: 600 obs, 12 columns, response variable: box_off_num  \n",
    "test set: 243 obs, 11 columns(except of box_off_num)"
   ]
  },
  {
   "cell_type": "markdown",
   "metadata": {},
   "source": [
    "&nbsp;"
   ]
  },
  {
   "cell_type": "markdown",
   "metadata": {},
   "source": [
    "&nbsp;"
   ]
  },
  {
   "cell_type": "markdown",
   "metadata": {},
   "source": [
    "# EDA"
   ]
  },
  {
   "cell_type": "markdown",
   "metadata": {},
   "source": [
    "## 기초 통계량 확인"
   ]
  },
  {
   "cell_type": "code",
   "execution_count": 289,
   "metadata": {},
   "outputs": [
    {
     "data": {
      "text/html": [
       "<div>\n",
       "<style scoped>\n",
       "    .dataframe tbody tr th:only-of-type {\n",
       "        vertical-align: middle;\n",
       "    }\n",
       "\n",
       "    .dataframe tbody tr th {\n",
       "        vertical-align: top;\n",
       "    }\n",
       "\n",
       "    .dataframe thead th {\n",
       "        text-align: right;\n",
       "    }\n",
       "</style>\n",
       "<table border=\"1\" class=\"dataframe\">\n",
       "  <thead>\n",
       "    <tr style=\"text-align: right;\">\n",
       "      <th></th>\n",
       "      <th>time</th>\n",
       "      <th>dir_prev_bfnum</th>\n",
       "      <th>dir_prev_num</th>\n",
       "      <th>num_staff</th>\n",
       "      <th>num_actor</th>\n",
       "      <th>box_off_num</th>\n",
       "    </tr>\n",
       "  </thead>\n",
       "  <tbody>\n",
       "    <tr>\n",
       "      <th>count</th>\n",
       "      <td>600.000000</td>\n",
       "      <td>2.700000e+02</td>\n",
       "      <td>600.000000</td>\n",
       "      <td>600.000000</td>\n",
       "      <td>600.000000</td>\n",
       "      <td>6.000000e+02</td>\n",
       "    </tr>\n",
       "    <tr>\n",
       "      <th>mean</th>\n",
       "      <td>100.863333</td>\n",
       "      <td>1.050443e+06</td>\n",
       "      <td>0.876667</td>\n",
       "      <td>151.118333</td>\n",
       "      <td>3.706667</td>\n",
       "      <td>7.081818e+05</td>\n",
       "    </tr>\n",
       "    <tr>\n",
       "      <th>std</th>\n",
       "      <td>18.097528</td>\n",
       "      <td>1.791408e+06</td>\n",
       "      <td>1.183409</td>\n",
       "      <td>165.654671</td>\n",
       "      <td>2.446889</td>\n",
       "      <td>1.828006e+06</td>\n",
       "    </tr>\n",
       "    <tr>\n",
       "      <th>min</th>\n",
       "      <td>45.000000</td>\n",
       "      <td>1.000000e+00</td>\n",
       "      <td>0.000000</td>\n",
       "      <td>0.000000</td>\n",
       "      <td>0.000000</td>\n",
       "      <td>1.000000e+00</td>\n",
       "    </tr>\n",
       "    <tr>\n",
       "      <th>25%</th>\n",
       "      <td>89.000000</td>\n",
       "      <td>2.038000e+04</td>\n",
       "      <td>0.000000</td>\n",
       "      <td>17.000000</td>\n",
       "      <td>2.000000</td>\n",
       "      <td>1.297250e+03</td>\n",
       "    </tr>\n",
       "    <tr>\n",
       "      <th>50%</th>\n",
       "      <td>100.000000</td>\n",
       "      <td>4.784236e+05</td>\n",
       "      <td>0.000000</td>\n",
       "      <td>82.500000</td>\n",
       "      <td>3.000000</td>\n",
       "      <td>1.259100e+04</td>\n",
       "    </tr>\n",
       "    <tr>\n",
       "      <th>75%</th>\n",
       "      <td>114.000000</td>\n",
       "      <td>1.286569e+06</td>\n",
       "      <td>2.000000</td>\n",
       "      <td>264.000000</td>\n",
       "      <td>4.000000</td>\n",
       "      <td>4.798868e+05</td>\n",
       "    </tr>\n",
       "    <tr>\n",
       "      <th>max</th>\n",
       "      <td>180.000000</td>\n",
       "      <td>1.761531e+07</td>\n",
       "      <td>5.000000</td>\n",
       "      <td>869.000000</td>\n",
       "      <td>25.000000</td>\n",
       "      <td>1.426277e+07</td>\n",
       "    </tr>\n",
       "  </tbody>\n",
       "</table>\n",
       "</div>"
      ],
      "text/plain": [
       "             time  dir_prev_bfnum  dir_prev_num   num_staff   num_actor  \\\n",
       "count  600.000000    2.700000e+02    600.000000  600.000000  600.000000   \n",
       "mean   100.863333    1.050443e+06      0.876667  151.118333    3.706667   \n",
       "std     18.097528    1.791408e+06      1.183409  165.654671    2.446889   \n",
       "min     45.000000    1.000000e+00      0.000000    0.000000    0.000000   \n",
       "25%     89.000000    2.038000e+04      0.000000   17.000000    2.000000   \n",
       "50%    100.000000    4.784236e+05      0.000000   82.500000    3.000000   \n",
       "75%    114.000000    1.286569e+06      2.000000  264.000000    4.000000   \n",
       "max    180.000000    1.761531e+07      5.000000  869.000000   25.000000   \n",
       "\n",
       "        box_off_num  \n",
       "count  6.000000e+02  \n",
       "mean   7.081818e+05  \n",
       "std    1.828006e+06  \n",
       "min    1.000000e+00  \n",
       "25%    1.297250e+03  \n",
       "50%    1.259100e+04  \n",
       "75%    4.798868e+05  \n",
       "max    1.426277e+07  "
      ]
     },
     "execution_count": 289,
     "metadata": {},
     "output_type": "execute_result"
    }
   ],
   "source": [
    "movies_train.describe()"
   ]
  },
  {
   "cell_type": "markdown",
   "metadata": {},
   "source": [
    "&nbsp;"
   ]
  },
  {
   "cell_type": "markdown",
   "metadata": {},
   "source": [
    "## 상관관계 분석"
   ]
  },
  {
   "cell_type": "code",
   "execution_count": 290,
   "metadata": {},
   "outputs": [
    {
     "data": {
      "text/html": [
       "<div>\n",
       "<style scoped>\n",
       "    .dataframe tbody tr th:only-of-type {\n",
       "        vertical-align: middle;\n",
       "    }\n",
       "\n",
       "    .dataframe tbody tr th {\n",
       "        vertical-align: top;\n",
       "    }\n",
       "\n",
       "    .dataframe thead th {\n",
       "        text-align: right;\n",
       "    }\n",
       "</style>\n",
       "<table border=\"1\" class=\"dataframe\">\n",
       "  <thead>\n",
       "    <tr style=\"text-align: right;\">\n",
       "      <th></th>\n",
       "      <th>time</th>\n",
       "      <th>dir_prev_bfnum</th>\n",
       "      <th>dir_prev_num</th>\n",
       "      <th>num_staff</th>\n",
       "      <th>num_actor</th>\n",
       "      <th>box_off_num</th>\n",
       "    </tr>\n",
       "  </thead>\n",
       "  <tbody>\n",
       "    <tr>\n",
       "      <th>time</th>\n",
       "      <td>1.000000</td>\n",
       "      <td>0.264675</td>\n",
       "      <td>0.306727</td>\n",
       "      <td>0.623205</td>\n",
       "      <td>0.114153</td>\n",
       "      <td>0.441452</td>\n",
       "    </tr>\n",
       "    <tr>\n",
       "      <th>dir_prev_bfnum</th>\n",
       "      <td>0.264675</td>\n",
       "      <td>1.000000</td>\n",
       "      <td>0.131822</td>\n",
       "      <td>0.323521</td>\n",
       "      <td>0.083818</td>\n",
       "      <td>0.283184</td>\n",
       "    </tr>\n",
       "    <tr>\n",
       "      <th>dir_prev_num</th>\n",
       "      <td>0.306727</td>\n",
       "      <td>0.131822</td>\n",
       "      <td>1.000000</td>\n",
       "      <td>0.450706</td>\n",
       "      <td>0.014006</td>\n",
       "      <td>0.259674</td>\n",
       "    </tr>\n",
       "    <tr>\n",
       "      <th>num_staff</th>\n",
       "      <td>0.623205</td>\n",
       "      <td>0.323521</td>\n",
       "      <td>0.450706</td>\n",
       "      <td>1.000000</td>\n",
       "      <td>0.077871</td>\n",
       "      <td>0.544265</td>\n",
       "    </tr>\n",
       "    <tr>\n",
       "      <th>num_actor</th>\n",
       "      <td>0.114153</td>\n",
       "      <td>0.083818</td>\n",
       "      <td>0.014006</td>\n",
       "      <td>0.077871</td>\n",
       "      <td>1.000000</td>\n",
       "      <td>0.111179</td>\n",
       "    </tr>\n",
       "    <tr>\n",
       "      <th>box_off_num</th>\n",
       "      <td>0.441452</td>\n",
       "      <td>0.283184</td>\n",
       "      <td>0.259674</td>\n",
       "      <td>0.544265</td>\n",
       "      <td>0.111179</td>\n",
       "      <td>1.000000</td>\n",
       "    </tr>\n",
       "  </tbody>\n",
       "</table>\n",
       "</div>"
      ],
      "text/plain": [
       "                    time  dir_prev_bfnum  dir_prev_num  num_staff  num_actor  \\\n",
       "time            1.000000        0.264675      0.306727   0.623205   0.114153   \n",
       "dir_prev_bfnum  0.264675        1.000000      0.131822   0.323521   0.083818   \n",
       "dir_prev_num    0.306727        0.131822      1.000000   0.450706   0.014006   \n",
       "num_staff       0.623205        0.323521      0.450706   1.000000   0.077871   \n",
       "num_actor       0.114153        0.083818      0.014006   0.077871   1.000000   \n",
       "box_off_num     0.441452        0.283184      0.259674   0.544265   0.111179   \n",
       "\n",
       "                box_off_num  \n",
       "time               0.441452  \n",
       "dir_prev_bfnum     0.283184  \n",
       "dir_prev_num       0.259674  \n",
       "num_staff          0.544265  \n",
       "num_actor          0.111179  \n",
       "box_off_num        1.000000  "
      ]
     },
     "execution_count": 290,
     "metadata": {},
     "output_type": "execute_result"
    }
   ],
   "source": [
    "movies_train.corr()                          #상관분석은 수치형 자료만 계산되었음"
   ]
  },
  {
   "cell_type": "markdown",
   "metadata": {},
   "source": [
    "관객수와 다른 요인들은 대체로 양의 상관관계를 보이고 있으며 그중 배우의 수를 제외하고는 어느정도 강한 상관관계를 보임.  \n",
    "특히 영화 상영시간과 스태프의 수는 강한 상관관계가 있음."
   ]
  },
  {
   "cell_type": "markdown",
   "metadata": {},
   "source": [
    "**하지만 이는 수치형 변수형만 가지고 상관관계를 분석한 것이기 때문에 다른 범주형 자료 또한 살펴볼 필요가 있음**"
   ]
  },
  {
   "cell_type": "markdown",
   "metadata": {},
   "source": [
    "&nbsp;"
   ]
  },
  {
   "cell_type": "markdown",
   "metadata": {},
   "source": [
    "\n",
    "> ### screening rat(상영등급)"
   ]
  },
  {
   "cell_type": "code",
   "execution_count": 291,
   "metadata": {},
   "outputs": [
    {
     "data": {
      "text/plain": [
       "청소년 관람불가    204\n",
       "15세 관람가     202\n",
       "12세 관람가     102\n",
       "전체 관람가       92\n",
       "Name: screening_rat, dtype: int64"
      ]
     },
     "execution_count": 291,
     "metadata": {},
     "output_type": "execute_result"
    }
   ],
   "source": [
    "movies_train.screening_rat.value_counts()"
   ]
  },
  {
   "cell_type": "markdown",
   "metadata": {},
   "source": [
    "상영 등급은 등급이 높아질수록 수위가 강해진다는 의미가 있음.  \n",
    "우선 범주형을 연속형으로 변환해보기로 함"
   ]
  },
  {
   "cell_type": "code",
   "execution_count": 292,
   "metadata": {},
   "outputs": [],
   "source": [
    "temp_train = movies_train.copy()        # 새로운 변수 생성 위한 데이터셋 카피"
   ]
  },
  {
   "cell_type": "code",
   "execution_count": 293,
   "metadata": {},
   "outputs": [],
   "source": [
    "scr_rat_num = list(np.repeat(0,len(temp_train)))\n",
    "for i in range(len(temp_train)):\n",
    "    if temp_train.screening_rat[i] == '전체 관람가':\n",
    "        scr_rat_num[i] = 1\n",
    "    elif temp_train.screening_rat[i] == '12세 관람가':\n",
    "        scr_rat_num[i] = 2\n",
    "    elif temp_train.screening_rat[i] == '15세 관람가':\n",
    "        scr_rat_num[i] = 3\n",
    "    else:\n",
    "        scr_rat_num[i] = 4"
   ]
  },
  {
   "cell_type": "code",
   "execution_count": 294,
   "metadata": {},
   "outputs": [],
   "source": [
    "temp_train['scr_rat_num'] = scr_rat_num                 #수치형으로 변환한 상영수위 변수"
   ]
  },
  {
   "cell_type": "code",
   "execution_count": 295,
   "metadata": {},
   "outputs": [
    {
     "data": {
      "text/plain": [
       "4    204\n",
       "3    202\n",
       "2    102\n",
       "1     92\n",
       "Name: scr_rat_num, dtype: int64"
      ]
     },
     "execution_count": 295,
     "metadata": {},
     "output_type": "execute_result"
    }
   ],
   "source": [
    "temp_train.scr_rat_num.value_counts()"
   ]
  },
  {
   "cell_type": "markdown",
   "metadata": {},
   "source": [
    "**상관관계_1**"
   ]
  },
  {
   "cell_type": "code",
   "execution_count": 296,
   "metadata": {},
   "outputs": [
    {
     "data": {
      "text/html": [
       "<div>\n",
       "<style scoped>\n",
       "    .dataframe tbody tr th:only-of-type {\n",
       "        vertical-align: middle;\n",
       "    }\n",
       "\n",
       "    .dataframe tbody tr th {\n",
       "        vertical-align: top;\n",
       "    }\n",
       "\n",
       "    .dataframe thead th {\n",
       "        text-align: right;\n",
       "    }\n",
       "</style>\n",
       "<table border=\"1\" class=\"dataframe\">\n",
       "  <thead>\n",
       "    <tr style=\"text-align: right;\">\n",
       "      <th></th>\n",
       "      <th>time</th>\n",
       "      <th>dir_prev_bfnum</th>\n",
       "      <th>dir_prev_num</th>\n",
       "      <th>num_staff</th>\n",
       "      <th>num_actor</th>\n",
       "      <th>box_off_num</th>\n",
       "      <th>scr_rat_num</th>\n",
       "    </tr>\n",
       "  </thead>\n",
       "  <tbody>\n",
       "    <tr>\n",
       "      <th>time</th>\n",
       "      <td>1.000000</td>\n",
       "      <td>0.264675</td>\n",
       "      <td>0.306727</td>\n",
       "      <td>0.623205</td>\n",
       "      <td>0.114153</td>\n",
       "      <td>0.441452</td>\n",
       "      <td>0.146784</td>\n",
       "    </tr>\n",
       "    <tr>\n",
       "      <th>dir_prev_bfnum</th>\n",
       "      <td>0.264675</td>\n",
       "      <td>1.000000</td>\n",
       "      <td>0.131822</td>\n",
       "      <td>0.323521</td>\n",
       "      <td>0.083818</td>\n",
       "      <td>0.283184</td>\n",
       "      <td>0.029274</td>\n",
       "    </tr>\n",
       "    <tr>\n",
       "      <th>dir_prev_num</th>\n",
       "      <td>0.306727</td>\n",
       "      <td>0.131822</td>\n",
       "      <td>1.000000</td>\n",
       "      <td>0.450706</td>\n",
       "      <td>0.014006</td>\n",
       "      <td>0.259674</td>\n",
       "      <td>0.068244</td>\n",
       "    </tr>\n",
       "    <tr>\n",
       "      <th>num_staff</th>\n",
       "      <td>0.623205</td>\n",
       "      <td>0.323521</td>\n",
       "      <td>0.450706</td>\n",
       "      <td>1.000000</td>\n",
       "      <td>0.077871</td>\n",
       "      <td>0.544265</td>\n",
       "      <td>0.127448</td>\n",
       "    </tr>\n",
       "    <tr>\n",
       "      <th>num_actor</th>\n",
       "      <td>0.114153</td>\n",
       "      <td>0.083818</td>\n",
       "      <td>0.014006</td>\n",
       "      <td>0.077871</td>\n",
       "      <td>1.000000</td>\n",
       "      <td>0.111179</td>\n",
       "      <td>-0.033762</td>\n",
       "    </tr>\n",
       "    <tr>\n",
       "      <th>box_off_num</th>\n",
       "      <td>0.441452</td>\n",
       "      <td>0.283184</td>\n",
       "      <td>0.259674</td>\n",
       "      <td>0.544265</td>\n",
       "      <td>0.111179</td>\n",
       "      <td>1.000000</td>\n",
       "      <td>0.018508</td>\n",
       "    </tr>\n",
       "    <tr>\n",
       "      <th>scr_rat_num</th>\n",
       "      <td>0.146784</td>\n",
       "      <td>0.029274</td>\n",
       "      <td>0.068244</td>\n",
       "      <td>0.127448</td>\n",
       "      <td>-0.033762</td>\n",
       "      <td>0.018508</td>\n",
       "      <td>1.000000</td>\n",
       "    </tr>\n",
       "  </tbody>\n",
       "</table>\n",
       "</div>"
      ],
      "text/plain": [
       "                    time  dir_prev_bfnum  dir_prev_num  num_staff  num_actor  \\\n",
       "time            1.000000        0.264675      0.306727   0.623205   0.114153   \n",
       "dir_prev_bfnum  0.264675        1.000000      0.131822   0.323521   0.083818   \n",
       "dir_prev_num    0.306727        0.131822      1.000000   0.450706   0.014006   \n",
       "num_staff       0.623205        0.323521      0.450706   1.000000   0.077871   \n",
       "num_actor       0.114153        0.083818      0.014006   0.077871   1.000000   \n",
       "box_off_num     0.441452        0.283184      0.259674   0.544265   0.111179   \n",
       "scr_rat_num     0.146784        0.029274      0.068244   0.127448  -0.033762   \n",
       "\n",
       "                box_off_num  scr_rat_num  \n",
       "time               0.441452     0.146784  \n",
       "dir_prev_bfnum     0.283184     0.029274  \n",
       "dir_prev_num       0.259674     0.068244  \n",
       "num_staff          0.544265     0.127448  \n",
       "num_actor          0.111179    -0.033762  \n",
       "box_off_num        1.000000     0.018508  \n",
       "scr_rat_num        0.018508     1.000000  "
      ]
     },
     "execution_count": 296,
     "metadata": {},
     "output_type": "execute_result"
    }
   ],
   "source": [
    "temp_train.corr()"
   ]
  },
  {
   "cell_type": "markdown",
   "metadata": {},
   "source": [
    "약*0.0186*로 매우 낮음.  \n",
    "한번 one-hot 인코딩을 통해 수치형으로 변환시켜 보기로함"
   ]
  },
  {
   "cell_type": "code",
   "execution_count": 297,
   "metadata": {},
   "outputs": [],
   "source": [
    "temp_train = movies_train.copy()        # 새로운 변수 생성 위한 데이터셋 카피"
   ]
  },
  {
   "cell_type": "code",
   "execution_count": 298,
   "metadata": {},
   "outputs": [],
   "source": [
    "view_all = list(np.repeat(0,len(temp_train)))                            #one-hot encoding\n",
    "view_12 = list(np.repeat(0,len(temp_train)))\n",
    "view_15 = list(np.repeat(0,len(temp_train)))\n",
    "view_adult = list(np.repeat(0,len(temp_train)))\n",
    "\n",
    "for i in range(len(temp_train)):\n",
    "    if temp_train.screening_rat[i] == '전체 관람가':\n",
    "        view_all[i] = 1\n",
    "    elif temp_train.screening_rat[i] == '12세 관람가':\n",
    "        view_12[i] = 1\n",
    "    elif temp_train.screening_rat[i] == '15세 관람가':\n",
    "        view_15[i] = 1\n",
    "    else:\n",
    "        view_adult[i] = 1"
   ]
  },
  {
   "cell_type": "code",
   "execution_count": 299,
   "metadata": {},
   "outputs": [],
   "source": [
    "temp_train['view_all'] = view_all\n",
    "temp_train['view_12'] = view_12\n",
    "temp_train['view_15'] = view_15\n",
    "temp_train['view_adult'] = view_adult"
   ]
  },
  {
   "cell_type": "code",
   "execution_count": 300,
   "metadata": {},
   "outputs": [
    {
     "data": {
      "text/html": [
       "<div>\n",
       "<style scoped>\n",
       "    .dataframe tbody tr th:only-of-type {\n",
       "        vertical-align: middle;\n",
       "    }\n",
       "\n",
       "    .dataframe tbody tr th {\n",
       "        vertical-align: top;\n",
       "    }\n",
       "\n",
       "    .dataframe thead th {\n",
       "        text-align: right;\n",
       "    }\n",
       "</style>\n",
       "<table border=\"1\" class=\"dataframe\">\n",
       "  <thead>\n",
       "    <tr style=\"text-align: right;\">\n",
       "      <th></th>\n",
       "      <th>title</th>\n",
       "      <th>distributor</th>\n",
       "      <th>genre</th>\n",
       "      <th>release_time</th>\n",
       "      <th>time</th>\n",
       "      <th>screening_rat</th>\n",
       "      <th>director</th>\n",
       "      <th>dir_prev_bfnum</th>\n",
       "      <th>dir_prev_num</th>\n",
       "      <th>num_staff</th>\n",
       "      <th>num_actor</th>\n",
       "      <th>box_off_num</th>\n",
       "      <th>view_all</th>\n",
       "      <th>view_12</th>\n",
       "      <th>view_15</th>\n",
       "      <th>view_adult</th>\n",
       "    </tr>\n",
       "  </thead>\n",
       "  <tbody>\n",
       "    <tr>\n",
       "      <th>0</th>\n",
       "      <td>개들의 전쟁</td>\n",
       "      <td>롯데엔터테인먼트</td>\n",
       "      <td>액션</td>\n",
       "      <td>2012-11-22</td>\n",
       "      <td>96</td>\n",
       "      <td>청소년 관람불가</td>\n",
       "      <td>조병옥</td>\n",
       "      <td>NaN</td>\n",
       "      <td>0</td>\n",
       "      <td>91</td>\n",
       "      <td>2</td>\n",
       "      <td>23398</td>\n",
       "      <td>0</td>\n",
       "      <td>0</td>\n",
       "      <td>0</td>\n",
       "      <td>1</td>\n",
       "    </tr>\n",
       "    <tr>\n",
       "      <th>1</th>\n",
       "      <td>내부자들</td>\n",
       "      <td>(주)쇼박스</td>\n",
       "      <td>느와르</td>\n",
       "      <td>2015-11-19</td>\n",
       "      <td>130</td>\n",
       "      <td>청소년 관람불가</td>\n",
       "      <td>우민호</td>\n",
       "      <td>1161602.50</td>\n",
       "      <td>2</td>\n",
       "      <td>387</td>\n",
       "      <td>3</td>\n",
       "      <td>7072501</td>\n",
       "      <td>0</td>\n",
       "      <td>0</td>\n",
       "      <td>0</td>\n",
       "      <td>1</td>\n",
       "    </tr>\n",
       "    <tr>\n",
       "      <th>2</th>\n",
       "      <td>은밀하게 위대하게</td>\n",
       "      <td>(주)쇼박스</td>\n",
       "      <td>액션</td>\n",
       "      <td>2013-06-05</td>\n",
       "      <td>123</td>\n",
       "      <td>15세 관람가</td>\n",
       "      <td>장철수</td>\n",
       "      <td>220775.25</td>\n",
       "      <td>4</td>\n",
       "      <td>343</td>\n",
       "      <td>4</td>\n",
       "      <td>6959083</td>\n",
       "      <td>0</td>\n",
       "      <td>0</td>\n",
       "      <td>1</td>\n",
       "      <td>0</td>\n",
       "    </tr>\n",
       "  </tbody>\n",
       "</table>\n",
       "</div>"
      ],
      "text/plain": [
       "       title distributor genre release_time  time screening_rat director  \\\n",
       "0     개들의 전쟁    롯데엔터테인먼트    액션   2012-11-22    96      청소년 관람불가      조병옥   \n",
       "1       내부자들      (주)쇼박스   느와르   2015-11-19   130      청소년 관람불가      우민호   \n",
       "2  은밀하게 위대하게      (주)쇼박스    액션   2013-06-05   123       15세 관람가      장철수   \n",
       "\n",
       "   dir_prev_bfnum  dir_prev_num  num_staff  num_actor  box_off_num  view_all  \\\n",
       "0             NaN             0         91          2        23398         0   \n",
       "1      1161602.50             2        387          3      7072501         0   \n",
       "2       220775.25             4        343          4      6959083         0   \n",
       "\n",
       "   view_12  view_15  view_adult  \n",
       "0        0        0           1  \n",
       "1        0        0           1  \n",
       "2        0        1           0  "
      ]
     },
     "execution_count": 300,
     "metadata": {},
     "output_type": "execute_result"
    }
   ],
   "source": [
    "temp_train.head(3)"
   ]
  },
  {
   "cell_type": "markdown",
   "metadata": {},
   "source": [
    "**상관관계_2 (상영수위 원핫인코딩 버전)**"
   ]
  },
  {
   "cell_type": "code",
   "execution_count": 301,
   "metadata": {},
   "outputs": [
    {
     "data": {
      "text/html": [
       "<div>\n",
       "<style scoped>\n",
       "    .dataframe tbody tr th:only-of-type {\n",
       "        vertical-align: middle;\n",
       "    }\n",
       "\n",
       "    .dataframe tbody tr th {\n",
       "        vertical-align: top;\n",
       "    }\n",
       "\n",
       "    .dataframe thead th {\n",
       "        text-align: right;\n",
       "    }\n",
       "</style>\n",
       "<table border=\"1\" class=\"dataframe\">\n",
       "  <thead>\n",
       "    <tr style=\"text-align: right;\">\n",
       "      <th></th>\n",
       "      <th>time</th>\n",
       "      <th>dir_prev_bfnum</th>\n",
       "      <th>dir_prev_num</th>\n",
       "      <th>num_staff</th>\n",
       "      <th>num_actor</th>\n",
       "      <th>box_off_num</th>\n",
       "      <th>view_all</th>\n",
       "      <th>view_12</th>\n",
       "      <th>view_15</th>\n",
       "      <th>view_adult</th>\n",
       "    </tr>\n",
       "  </thead>\n",
       "  <tbody>\n",
       "    <tr>\n",
       "      <th>time</th>\n",
       "      <td>1.000000</td>\n",
       "      <td>0.264675</td>\n",
       "      <td>0.306727</td>\n",
       "      <td>0.623205</td>\n",
       "      <td>0.114153</td>\n",
       "      <td>0.441452</td>\n",
       "      <td>-0.259244</td>\n",
       "      <td>0.017161</td>\n",
       "      <td>0.239238</td>\n",
       "      <td>-0.055087</td>\n",
       "    </tr>\n",
       "    <tr>\n",
       "      <th>dir_prev_bfnum</th>\n",
       "      <td>0.264675</td>\n",
       "      <td>1.000000</td>\n",
       "      <td>0.131822</td>\n",
       "      <td>0.323521</td>\n",
       "      <td>0.083818</td>\n",
       "      <td>0.283184</td>\n",
       "      <td>-0.121613</td>\n",
       "      <td>0.079636</td>\n",
       "      <td>0.039108</td>\n",
       "      <td>-0.029173</td>\n",
       "    </tr>\n",
       "    <tr>\n",
       "      <th>dir_prev_num</th>\n",
       "      <td>0.306727</td>\n",
       "      <td>0.131822</td>\n",
       "      <td>1.000000</td>\n",
       "      <td>0.450706</td>\n",
       "      <td>0.014006</td>\n",
       "      <td>0.259674</td>\n",
       "      <td>-0.166861</td>\n",
       "      <td>0.020939</td>\n",
       "      <td>0.196600</td>\n",
       "      <td>-0.085814</td>\n",
       "    </tr>\n",
       "    <tr>\n",
       "      <th>num_staff</th>\n",
       "      <td>0.623205</td>\n",
       "      <td>0.323521</td>\n",
       "      <td>0.450706</td>\n",
       "      <td>1.000000</td>\n",
       "      <td>0.077871</td>\n",
       "      <td>0.544265</td>\n",
       "      <td>-0.273736</td>\n",
       "      <td>0.060474</td>\n",
       "      <td>0.246535</td>\n",
       "      <td>-0.085689</td>\n",
       "    </tr>\n",
       "    <tr>\n",
       "      <th>num_actor</th>\n",
       "      <td>0.114153</td>\n",
       "      <td>0.083818</td>\n",
       "      <td>0.014006</td>\n",
       "      <td>0.077871</td>\n",
       "      <td>1.000000</td>\n",
       "      <td>0.111179</td>\n",
       "      <td>0.017003</td>\n",
       "      <td>-0.018293</td>\n",
       "      <td>0.065280</td>\n",
       "      <td>-0.063550</td>\n",
       "    </tr>\n",
       "    <tr>\n",
       "      <th>box_off_num</th>\n",
       "      <td>0.441452</td>\n",
       "      <td>0.283184</td>\n",
       "      <td>0.259674</td>\n",
       "      <td>0.544265</td>\n",
       "      <td>0.111179</td>\n",
       "      <td>1.000000</td>\n",
       "      <td>-0.133525</td>\n",
       "      <td>0.033896</td>\n",
       "      <td>0.210368</td>\n",
       "      <td>-0.135180</td>\n",
       "    </tr>\n",
       "    <tr>\n",
       "      <th>view_all</th>\n",
       "      <td>-0.259244</td>\n",
       "      <td>-0.121613</td>\n",
       "      <td>-0.166861</td>\n",
       "      <td>-0.273736</td>\n",
       "      <td>0.017003</td>\n",
       "      <td>-0.133525</td>\n",
       "      <td>1.000000</td>\n",
       "      <td>-0.192596</td>\n",
       "      <td>-0.303177</td>\n",
       "      <td>-0.305443</td>\n",
       "    </tr>\n",
       "    <tr>\n",
       "      <th>view_12</th>\n",
       "      <td>0.017161</td>\n",
       "      <td>0.079636</td>\n",
       "      <td>0.020939</td>\n",
       "      <td>0.060474</td>\n",
       "      <td>-0.018293</td>\n",
       "      <td>0.033896</td>\n",
       "      <td>-0.192596</td>\n",
       "      <td>1.000000</td>\n",
       "      <td>-0.322418</td>\n",
       "      <td>-0.324828</td>\n",
       "    </tr>\n",
       "    <tr>\n",
       "      <th>view_15</th>\n",
       "      <td>0.239238</td>\n",
       "      <td>0.039108</td>\n",
       "      <td>0.196600</td>\n",
       "      <td>0.246535</td>\n",
       "      <td>0.065280</td>\n",
       "      <td>0.210368</td>\n",
       "      <td>-0.303177</td>\n",
       "      <td>-0.322418</td>\n",
       "      <td>1.000000</td>\n",
       "      <td>-0.511330</td>\n",
       "    </tr>\n",
       "    <tr>\n",
       "      <th>view_adult</th>\n",
       "      <td>-0.055087</td>\n",
       "      <td>-0.029173</td>\n",
       "      <td>-0.085814</td>\n",
       "      <td>-0.085689</td>\n",
       "      <td>-0.063550</td>\n",
       "      <td>-0.135180</td>\n",
       "      <td>-0.305443</td>\n",
       "      <td>-0.324828</td>\n",
       "      <td>-0.511330</td>\n",
       "      <td>1.000000</td>\n",
       "    </tr>\n",
       "  </tbody>\n",
       "</table>\n",
       "</div>"
      ],
      "text/plain": [
       "                    time  dir_prev_bfnum  dir_prev_num  num_staff  num_actor  \\\n",
       "time            1.000000        0.264675      0.306727   0.623205   0.114153   \n",
       "dir_prev_bfnum  0.264675        1.000000      0.131822   0.323521   0.083818   \n",
       "dir_prev_num    0.306727        0.131822      1.000000   0.450706   0.014006   \n",
       "num_staff       0.623205        0.323521      0.450706   1.000000   0.077871   \n",
       "num_actor       0.114153        0.083818      0.014006   0.077871   1.000000   \n",
       "box_off_num     0.441452        0.283184      0.259674   0.544265   0.111179   \n",
       "view_all       -0.259244       -0.121613     -0.166861  -0.273736   0.017003   \n",
       "view_12         0.017161        0.079636      0.020939   0.060474  -0.018293   \n",
       "view_15         0.239238        0.039108      0.196600   0.246535   0.065280   \n",
       "view_adult     -0.055087       -0.029173     -0.085814  -0.085689  -0.063550   \n",
       "\n",
       "                box_off_num  view_all   view_12   view_15  view_adult  \n",
       "time               0.441452 -0.259244  0.017161  0.239238   -0.055087  \n",
       "dir_prev_bfnum     0.283184 -0.121613  0.079636  0.039108   -0.029173  \n",
       "dir_prev_num       0.259674 -0.166861  0.020939  0.196600   -0.085814  \n",
       "num_staff          0.544265 -0.273736  0.060474  0.246535   -0.085689  \n",
       "num_actor          0.111179  0.017003 -0.018293  0.065280   -0.063550  \n",
       "box_off_num        1.000000 -0.133525  0.033896  0.210368   -0.135180  \n",
       "view_all          -0.133525  1.000000 -0.192596 -0.303177   -0.305443  \n",
       "view_12            0.033896 -0.192596  1.000000 -0.322418   -0.324828  \n",
       "view_15            0.210368 -0.303177 -0.322418  1.000000   -0.511330  \n",
       "view_adult        -0.135180 -0.305443 -0.324828 -0.511330    1.000000  "
      ]
     },
     "execution_count": 301,
     "metadata": {},
     "output_type": "execute_result"
    }
   ],
   "source": [
    "temp_train.corr()"
   ]
  },
  {
   "cell_type": "markdown",
   "metadata": {},
   "source": [
    "전체관람가는 -0.133, 12세는 0.033, 15세는 0.21, 청소년관람불가는 -0.13의 상관계수를 보인다"
   ]
  },
  {
   "cell_type": "markdown",
   "metadata": {},
   "source": [
    "청소년관람불가는 언뜻 보기에 음의 방향성이 상식적으로 보이나 나머지 관람가들은 일반적인 상식으로 해석하기는 어려움"
   ]
  },
  {
   "cell_type": "markdown",
   "metadata": {},
   "source": [
    "따라서 일단 상관관계가 매우 약한 12세 관람가를 제외한 view_all, view_15, view_adult 변수를 분석에 활용하기로 결정"
   ]
  },
  {
   "cell_type": "markdown",
   "metadata": {},
   "source": [
    "&nbsp;"
   ]
  },
  {
   "cell_type": "markdown",
   "metadata": {},
   "source": [
    "&nbsp;"
   ]
  },
  {
   "cell_type": "markdown",
   "metadata": {},
   "source": [
    "> ## genre(장르)"
   ]
  },
  {
   "cell_type": "code",
   "execution_count": 302,
   "metadata": {},
   "outputs": [
    {
     "data": {
      "text/plain": [
       "드라마       221\n",
       "다큐멘터리      93\n",
       "멜로/로맨스     78\n",
       "코미디        53\n",
       "공포         42\n",
       "액션         28\n",
       "느와르        27\n",
       "애니메이션      21\n",
       "미스터리       17\n",
       "SF         13\n",
       "뮤지컬         5\n",
       "서스펜스        2\n",
       "Name: genre, dtype: int64"
      ]
     },
     "execution_count": 302,
     "metadata": {},
     "output_type": "execute_result"
    }
   ],
   "source": [
    "movies_train.genre.value_counts()"
   ]
  },
  {
   "cell_type": "markdown",
   "metadata": {},
   "source": [
    "장르 변수도 마찬가지로 one-hot encoding을 통해 수치형 변수로 변환하기로 함"
   ]
  },
  {
   "cell_type": "code",
   "execution_count": 303,
   "metadata": {},
   "outputs": [],
   "source": [
    "drama = list(np.repeat(0,len(temp_train)))                            #one-hot encoding\n",
    "docu = list(np.repeat(0,len(temp_train)))\n",
    "romance = list(np.repeat(0,len(temp_train)))\n",
    "comedy = list(np.repeat(0,len(temp_train)))\n",
    "horror = list(np.repeat(0,len(temp_train)))                            #one-hot encoding\n",
    "action = list(np.repeat(0,len(temp_train)))\n",
    "noir = list(np.repeat(0,len(temp_train)))\n",
    "ani = list(np.repeat(0,len(temp_train)))\n",
    "mystery = list(np.repeat(0,len(temp_train)))                            #one-hot encoding\n",
    "sf = list(np.repeat(0,len(temp_train)))\n",
    "musical = list(np.repeat(0,len(temp_train)))\n",
    "suspense = list(np.repeat(0,len(temp_train)))\n",
    "\n",
    "\n",
    "for i in range(len(temp_train)):\n",
    "    if movies_train.genre[i] == '드라마':\n",
    "        drama[i] = 1\n",
    "    elif movies_train.genre[i] == '다큐멘터리':\n",
    "        docu[i] = 1\n",
    "    elif movies_train.genre[i] == '멜로/로맨스':\n",
    "        romance[i] = 1\n",
    "    elif movies_train.genre[i] == '코미디':\n",
    "        comedy[i] = 1\n",
    "    elif movies_train.genre[i] == '공포':\n",
    "        horror[i] = 1\n",
    "    elif movies_train.genre[i] == '액션':\n",
    "        action[i] = 1\n",
    "    elif movies_train.genre[i] == '느와르':\n",
    "        noir[i] = 1\n",
    "    elif movies_train.genre[i] == '애니메이션':\n",
    "        ani[i] = 1\n",
    "    elif movies_train.genre[i] == '미스터리':\n",
    "        mystery[i] = 1\n",
    "    elif movies_train.genre[i] == 'SF':\n",
    "        sf[i] = 1\n",
    "    elif movies_train.genre[i] == '뮤지컬':\n",
    "        musical[i] = 1\n",
    "    else :\n",
    "        suspense[i] = 1\n",
    "        "
   ]
  },
  {
   "cell_type": "code",
   "execution_count": 304,
   "metadata": {},
   "outputs": [],
   "source": [
    "temp_train = movies_train.copy()        # 새로운 변수 생성 위한 데이터셋 카피"
   ]
  },
  {
   "cell_type": "code",
   "execution_count": 305,
   "metadata": {},
   "outputs": [],
   "source": [
    "temp_train['drama'] = drama\n",
    "temp_train['docu'] = docu\n",
    "temp_train['romance'] = romance\n",
    "temp_train['comedy'] = comedy\n",
    "temp_train['horror'] = horror\n",
    "temp_train['action'] = action\n",
    "temp_train['noir'] = noir\n",
    "temp_train['ani'] = ani\n",
    "temp_train['mystery'] = mystery\n",
    "temp_train['sf'] = sf\n",
    "temp_train['musical'] = musical\n",
    "temp_train['suspense'] = suspense"
   ]
  },
  {
   "cell_type": "code",
   "execution_count": 306,
   "metadata": {},
   "outputs": [
    {
     "data": {
      "text/html": [
       "<div>\n",
       "<style scoped>\n",
       "    .dataframe tbody tr th:only-of-type {\n",
       "        vertical-align: middle;\n",
       "    }\n",
       "\n",
       "    .dataframe tbody tr th {\n",
       "        vertical-align: top;\n",
       "    }\n",
       "\n",
       "    .dataframe thead th {\n",
       "        text-align: right;\n",
       "    }\n",
       "</style>\n",
       "<table border=\"1\" class=\"dataframe\">\n",
       "  <thead>\n",
       "    <tr style=\"text-align: right;\">\n",
       "      <th></th>\n",
       "      <th>title</th>\n",
       "      <th>distributor</th>\n",
       "      <th>genre</th>\n",
       "      <th>release_time</th>\n",
       "      <th>time</th>\n",
       "      <th>screening_rat</th>\n",
       "      <th>director</th>\n",
       "      <th>dir_prev_bfnum</th>\n",
       "      <th>dir_prev_num</th>\n",
       "      <th>num_staff</th>\n",
       "      <th>...</th>\n",
       "      <th>romance</th>\n",
       "      <th>comedy</th>\n",
       "      <th>horror</th>\n",
       "      <th>action</th>\n",
       "      <th>noir</th>\n",
       "      <th>ani</th>\n",
       "      <th>mystery</th>\n",
       "      <th>sf</th>\n",
       "      <th>musical</th>\n",
       "      <th>suspense</th>\n",
       "    </tr>\n",
       "  </thead>\n",
       "  <tbody>\n",
       "    <tr>\n",
       "      <th>0</th>\n",
       "      <td>개들의 전쟁</td>\n",
       "      <td>롯데엔터테인먼트</td>\n",
       "      <td>액션</td>\n",
       "      <td>2012-11-22</td>\n",
       "      <td>96</td>\n",
       "      <td>청소년 관람불가</td>\n",
       "      <td>조병옥</td>\n",
       "      <td>NaN</td>\n",
       "      <td>0</td>\n",
       "      <td>91</td>\n",
       "      <td>...</td>\n",
       "      <td>0</td>\n",
       "      <td>0</td>\n",
       "      <td>0</td>\n",
       "      <td>1</td>\n",
       "      <td>0</td>\n",
       "      <td>0</td>\n",
       "      <td>0</td>\n",
       "      <td>0</td>\n",
       "      <td>0</td>\n",
       "      <td>0</td>\n",
       "    </tr>\n",
       "    <tr>\n",
       "      <th>1</th>\n",
       "      <td>내부자들</td>\n",
       "      <td>(주)쇼박스</td>\n",
       "      <td>느와르</td>\n",
       "      <td>2015-11-19</td>\n",
       "      <td>130</td>\n",
       "      <td>청소년 관람불가</td>\n",
       "      <td>우민호</td>\n",
       "      <td>1161602.50</td>\n",
       "      <td>2</td>\n",
       "      <td>387</td>\n",
       "      <td>...</td>\n",
       "      <td>0</td>\n",
       "      <td>0</td>\n",
       "      <td>0</td>\n",
       "      <td>0</td>\n",
       "      <td>1</td>\n",
       "      <td>0</td>\n",
       "      <td>0</td>\n",
       "      <td>0</td>\n",
       "      <td>0</td>\n",
       "      <td>0</td>\n",
       "    </tr>\n",
       "    <tr>\n",
       "      <th>2</th>\n",
       "      <td>은밀하게 위대하게</td>\n",
       "      <td>(주)쇼박스</td>\n",
       "      <td>액션</td>\n",
       "      <td>2013-06-05</td>\n",
       "      <td>123</td>\n",
       "      <td>15세 관람가</td>\n",
       "      <td>장철수</td>\n",
       "      <td>220775.25</td>\n",
       "      <td>4</td>\n",
       "      <td>343</td>\n",
       "      <td>...</td>\n",
       "      <td>0</td>\n",
       "      <td>0</td>\n",
       "      <td>0</td>\n",
       "      <td>1</td>\n",
       "      <td>0</td>\n",
       "      <td>0</td>\n",
       "      <td>0</td>\n",
       "      <td>0</td>\n",
       "      <td>0</td>\n",
       "      <td>0</td>\n",
       "    </tr>\n",
       "  </tbody>\n",
       "</table>\n",
       "<p>3 rows × 24 columns</p>\n",
       "</div>"
      ],
      "text/plain": [
       "       title distributor genre release_time  time screening_rat director  \\\n",
       "0     개들의 전쟁    롯데엔터테인먼트    액션   2012-11-22    96      청소년 관람불가      조병옥   \n",
       "1       내부자들      (주)쇼박스   느와르   2015-11-19   130      청소년 관람불가      우민호   \n",
       "2  은밀하게 위대하게      (주)쇼박스    액션   2013-06-05   123       15세 관람가      장철수   \n",
       "\n",
       "   dir_prev_bfnum  dir_prev_num  num_staff  ...  romance  comedy  horror  \\\n",
       "0             NaN             0         91  ...        0       0       0   \n",
       "1      1161602.50             2        387  ...        0       0       0   \n",
       "2       220775.25             4        343  ...        0       0       0   \n",
       "\n",
       "   action  noir  ani  mystery  sf  musical  suspense  \n",
       "0       1     0    0        0   0        0         0  \n",
       "1       0     1    0        0   0        0         0  \n",
       "2       1     0    0        0   0        0         0  \n",
       "\n",
       "[3 rows x 24 columns]"
      ]
     },
     "execution_count": 306,
     "metadata": {},
     "output_type": "execute_result"
    }
   ],
   "source": [
    "temp_train.head(3)"
   ]
  },
  {
   "cell_type": "code",
   "execution_count": 307,
   "metadata": {},
   "outputs": [
    {
     "data": {
      "text/html": [
       "<div>\n",
       "<style scoped>\n",
       "    .dataframe tbody tr th:only-of-type {\n",
       "        vertical-align: middle;\n",
       "    }\n",
       "\n",
       "    .dataframe tbody tr th {\n",
       "        vertical-align: top;\n",
       "    }\n",
       "\n",
       "    .dataframe thead th {\n",
       "        text-align: right;\n",
       "    }\n",
       "</style>\n",
       "<table border=\"1\" class=\"dataframe\">\n",
       "  <thead>\n",
       "    <tr style=\"text-align: right;\">\n",
       "      <th></th>\n",
       "      <th>time</th>\n",
       "      <th>dir_prev_bfnum</th>\n",
       "      <th>dir_prev_num</th>\n",
       "      <th>num_staff</th>\n",
       "      <th>num_actor</th>\n",
       "      <th>box_off_num</th>\n",
       "      <th>drama</th>\n",
       "      <th>docu</th>\n",
       "      <th>romance</th>\n",
       "      <th>comedy</th>\n",
       "      <th>horror</th>\n",
       "      <th>action</th>\n",
       "      <th>noir</th>\n",
       "      <th>ani</th>\n",
       "      <th>mystery</th>\n",
       "      <th>sf</th>\n",
       "      <th>musical</th>\n",
       "      <th>suspense</th>\n",
       "    </tr>\n",
       "  </thead>\n",
       "  <tbody>\n",
       "    <tr>\n",
       "      <th>time</th>\n",
       "      <td>1.000000</td>\n",
       "      <td>0.264675</td>\n",
       "      <td>0.306727</td>\n",
       "      <td>0.623205</td>\n",
       "      <td>0.114153</td>\n",
       "      <td>0.441452</td>\n",
       "      <td>0.159977</td>\n",
       "      <td>-0.303400</td>\n",
       "      <td>-0.090262</td>\n",
       "      <td>0.075757</td>\n",
       "      <td>-0.009848</td>\n",
       "      <td>0.166415</td>\n",
       "      <td>0.174151</td>\n",
       "      <td>-0.192651</td>\n",
       "      <td>0.016289</td>\n",
       "      <td>0.004290</td>\n",
       "      <td>0.031110</td>\n",
       "      <td>0.035617</td>\n",
       "    </tr>\n",
       "    <tr>\n",
       "      <th>dir_prev_bfnum</th>\n",
       "      <td>0.264675</td>\n",
       "      <td>1.000000</td>\n",
       "      <td>0.131822</td>\n",
       "      <td>0.323521</td>\n",
       "      <td>0.083818</td>\n",
       "      <td>0.283184</td>\n",
       "      <td>-0.085041</td>\n",
       "      <td>-0.137352</td>\n",
       "      <td>0.035086</td>\n",
       "      <td>0.114415</td>\n",
       "      <td>0.004758</td>\n",
       "      <td>0.068835</td>\n",
       "      <td>0.007810</td>\n",
       "      <td>-0.034003</td>\n",
       "      <td>-0.017048</td>\n",
       "      <td>0.076652</td>\n",
       "      <td>NaN</td>\n",
       "      <td>-0.017602</td>\n",
       "    </tr>\n",
       "    <tr>\n",
       "      <th>dir_prev_num</th>\n",
       "      <td>0.306727</td>\n",
       "      <td>0.131822</td>\n",
       "      <td>1.000000</td>\n",
       "      <td>0.450706</td>\n",
       "      <td>0.014006</td>\n",
       "      <td>0.259674</td>\n",
       "      <td>-0.040161</td>\n",
       "      <td>-0.173434</td>\n",
       "      <td>0.036129</td>\n",
       "      <td>0.057303</td>\n",
       "      <td>0.050714</td>\n",
       "      <td>0.183462</td>\n",
       "      <td>0.077037</td>\n",
       "      <td>-0.133530</td>\n",
       "      <td>0.051792</td>\n",
       "      <td>0.054248</td>\n",
       "      <td>-0.067965</td>\n",
       "      <td>0.006032</td>\n",
       "    </tr>\n",
       "    <tr>\n",
       "      <th>num_staff</th>\n",
       "      <td>0.623205</td>\n",
       "      <td>0.323521</td>\n",
       "      <td>0.450706</td>\n",
       "      <td>1.000000</td>\n",
       "      <td>0.077871</td>\n",
       "      <td>0.544265</td>\n",
       "      <td>0.061664</td>\n",
       "      <td>-0.344846</td>\n",
       "      <td>-0.035817</td>\n",
       "      <td>0.108996</td>\n",
       "      <td>0.041874</td>\n",
       "      <td>0.249187</td>\n",
       "      <td>0.209779</td>\n",
       "      <td>-0.122539</td>\n",
       "      <td>-0.034835</td>\n",
       "      <td>0.041529</td>\n",
       "      <td>-0.082477</td>\n",
       "      <td>-0.014017</td>\n",
       "    </tr>\n",
       "    <tr>\n",
       "      <th>num_actor</th>\n",
       "      <td>0.114153</td>\n",
       "      <td>0.083818</td>\n",
       "      <td>0.014006</td>\n",
       "      <td>0.077871</td>\n",
       "      <td>1.000000</td>\n",
       "      <td>0.111179</td>\n",
       "      <td>-0.018618</td>\n",
       "      <td>-0.076703</td>\n",
       "      <td>-0.046865</td>\n",
       "      <td>0.131034</td>\n",
       "      <td>0.019558</td>\n",
       "      <td>-0.009006</td>\n",
       "      <td>-0.010128</td>\n",
       "      <td>0.152677</td>\n",
       "      <td>-0.057575</td>\n",
       "      <td>-0.000874</td>\n",
       "      <td>-0.033996</td>\n",
       "      <td>-0.016716</td>\n",
       "    </tr>\n",
       "    <tr>\n",
       "      <th>box_off_num</th>\n",
       "      <td>0.441452</td>\n",
       "      <td>0.283184</td>\n",
       "      <td>0.259674</td>\n",
       "      <td>0.544265</td>\n",
       "      <td>0.111179</td>\n",
       "      <td>1.000000</td>\n",
       "      <td>-0.034488</td>\n",
       "      <td>-0.150310</td>\n",
       "      <td>-0.059728</td>\n",
       "      <td>0.082780</td>\n",
       "      <td>-0.017627</td>\n",
       "      <td>0.181191</td>\n",
       "      <td>0.184869</td>\n",
       "      <td>-0.054872</td>\n",
       "      <td>-0.016888</td>\n",
       "      <td>0.088009</td>\n",
       "      <td>-0.035211</td>\n",
       "      <td>-0.019807</td>\n",
       "    </tr>\n",
       "    <tr>\n",
       "      <th>drama</th>\n",
       "      <td>0.159977</td>\n",
       "      <td>-0.085041</td>\n",
       "      <td>-0.040161</td>\n",
       "      <td>0.061664</td>\n",
       "      <td>-0.018618</td>\n",
       "      <td>-0.034488</td>\n",
       "      <td>1.000000</td>\n",
       "      <td>-0.327050</td>\n",
       "      <td>-0.295181</td>\n",
       "      <td>-0.237695</td>\n",
       "      <td>-0.209500</td>\n",
       "      <td>-0.168950</td>\n",
       "      <td>-0.165761</td>\n",
       "      <td>-0.145428</td>\n",
       "      <td>-0.130397</td>\n",
       "      <td>-0.113639</td>\n",
       "      <td>-0.070001</td>\n",
       "      <td>-0.044161</td>\n",
       "    </tr>\n",
       "    <tr>\n",
       "      <th>docu</th>\n",
       "      <td>-0.303400</td>\n",
       "      <td>-0.137352</td>\n",
       "      <td>-0.173434</td>\n",
       "      <td>-0.344846</td>\n",
       "      <td>-0.076703</td>\n",
       "      <td>-0.150310</td>\n",
       "      <td>-0.327050</td>\n",
       "      <td>1.000000</td>\n",
       "      <td>-0.165558</td>\n",
       "      <td>-0.133316</td>\n",
       "      <td>-0.117502</td>\n",
       "      <td>-0.094759</td>\n",
       "      <td>-0.092970</td>\n",
       "      <td>-0.081566</td>\n",
       "      <td>-0.073135</td>\n",
       "      <td>-0.063737</td>\n",
       "      <td>-0.039261</td>\n",
       "      <td>-0.024769</td>\n",
       "    </tr>\n",
       "    <tr>\n",
       "      <th>romance</th>\n",
       "      <td>-0.090262</td>\n",
       "      <td>0.035086</td>\n",
       "      <td>0.036129</td>\n",
       "      <td>-0.035817</td>\n",
       "      <td>-0.046865</td>\n",
       "      <td>-0.059728</td>\n",
       "      <td>-0.295181</td>\n",
       "      <td>-0.165558</td>\n",
       "      <td>1.000000</td>\n",
       "      <td>-0.120325</td>\n",
       "      <td>-0.106052</td>\n",
       "      <td>-0.085525</td>\n",
       "      <td>-0.083911</td>\n",
       "      <td>-0.073618</td>\n",
       "      <td>-0.066009</td>\n",
       "      <td>-0.057526</td>\n",
       "      <td>-0.035436</td>\n",
       "      <td>-0.022355</td>\n",
       "    </tr>\n",
       "    <tr>\n",
       "      <th>comedy</th>\n",
       "      <td>0.075757</td>\n",
       "      <td>0.114415</td>\n",
       "      <td>0.057303</td>\n",
       "      <td>0.108996</td>\n",
       "      <td>0.131034</td>\n",
       "      <td>0.082780</td>\n",
       "      <td>-0.237695</td>\n",
       "      <td>-0.133316</td>\n",
       "      <td>-0.120325</td>\n",
       "      <td>1.000000</td>\n",
       "      <td>-0.085399</td>\n",
       "      <td>-0.068869</td>\n",
       "      <td>-0.067569</td>\n",
       "      <td>-0.059281</td>\n",
       "      <td>-0.053154</td>\n",
       "      <td>-0.046323</td>\n",
       "      <td>-0.028535</td>\n",
       "      <td>-0.018001</td>\n",
       "    </tr>\n",
       "    <tr>\n",
       "      <th>horror</th>\n",
       "      <td>-0.009848</td>\n",
       "      <td>0.004758</td>\n",
       "      <td>0.050714</td>\n",
       "      <td>0.041874</td>\n",
       "      <td>0.019558</td>\n",
       "      <td>-0.017627</td>\n",
       "      <td>-0.209500</td>\n",
       "      <td>-0.117502</td>\n",
       "      <td>-0.106052</td>\n",
       "      <td>-0.085399</td>\n",
       "      <td>1.000000</td>\n",
       "      <td>-0.060700</td>\n",
       "      <td>-0.059554</td>\n",
       "      <td>-0.052249</td>\n",
       "      <td>-0.046849</td>\n",
       "      <td>-0.040828</td>\n",
       "      <td>-0.025150</td>\n",
       "      <td>-0.015866</td>\n",
       "    </tr>\n",
       "    <tr>\n",
       "      <th>action</th>\n",
       "      <td>0.166415</td>\n",
       "      <td>0.068835</td>\n",
       "      <td>0.183462</td>\n",
       "      <td>0.249187</td>\n",
       "      <td>-0.009006</td>\n",
       "      <td>0.181191</td>\n",
       "      <td>-0.168950</td>\n",
       "      <td>-0.094759</td>\n",
       "      <td>-0.085525</td>\n",
       "      <td>-0.068869</td>\n",
       "      <td>-0.060700</td>\n",
       "      <td>1.000000</td>\n",
       "      <td>-0.048027</td>\n",
       "      <td>-0.042136</td>\n",
       "      <td>-0.037781</td>\n",
       "      <td>-0.032926</td>\n",
       "      <td>-0.020282</td>\n",
       "      <td>-0.012795</td>\n",
       "    </tr>\n",
       "    <tr>\n",
       "      <th>noir</th>\n",
       "      <td>0.174151</td>\n",
       "      <td>0.007810</td>\n",
       "      <td>0.077037</td>\n",
       "      <td>0.209779</td>\n",
       "      <td>-0.010128</td>\n",
       "      <td>0.184869</td>\n",
       "      <td>-0.165761</td>\n",
       "      <td>-0.092970</td>\n",
       "      <td>-0.083911</td>\n",
       "      <td>-0.067569</td>\n",
       "      <td>-0.059554</td>\n",
       "      <td>-0.048027</td>\n",
       "      <td>1.000000</td>\n",
       "      <td>-0.041340</td>\n",
       "      <td>-0.037068</td>\n",
       "      <td>-0.032304</td>\n",
       "      <td>-0.019899</td>\n",
       "      <td>-0.012554</td>\n",
       "    </tr>\n",
       "    <tr>\n",
       "      <th>ani</th>\n",
       "      <td>-0.192651</td>\n",
       "      <td>-0.034003</td>\n",
       "      <td>-0.133530</td>\n",
       "      <td>-0.122539</td>\n",
       "      <td>0.152677</td>\n",
       "      <td>-0.054872</td>\n",
       "      <td>-0.145428</td>\n",
       "      <td>-0.081566</td>\n",
       "      <td>-0.073618</td>\n",
       "      <td>-0.059281</td>\n",
       "      <td>-0.052249</td>\n",
       "      <td>-0.042136</td>\n",
       "      <td>-0.041340</td>\n",
       "      <td>1.000000</td>\n",
       "      <td>-0.032521</td>\n",
       "      <td>-0.028342</td>\n",
       "      <td>-0.017458</td>\n",
       "      <td>-0.011014</td>\n",
       "    </tr>\n",
       "    <tr>\n",
       "      <th>mystery</th>\n",
       "      <td>0.016289</td>\n",
       "      <td>-0.017048</td>\n",
       "      <td>0.051792</td>\n",
       "      <td>-0.034835</td>\n",
       "      <td>-0.057575</td>\n",
       "      <td>-0.016888</td>\n",
       "      <td>-0.130397</td>\n",
       "      <td>-0.073135</td>\n",
       "      <td>-0.066009</td>\n",
       "      <td>-0.053154</td>\n",
       "      <td>-0.046849</td>\n",
       "      <td>-0.037781</td>\n",
       "      <td>-0.037068</td>\n",
       "      <td>-0.032521</td>\n",
       "      <td>1.000000</td>\n",
       "      <td>-0.025412</td>\n",
       "      <td>-0.015654</td>\n",
       "      <td>-0.009875</td>\n",
       "    </tr>\n",
       "    <tr>\n",
       "      <th>sf</th>\n",
       "      <td>0.004290</td>\n",
       "      <td>0.076652</td>\n",
       "      <td>0.054248</td>\n",
       "      <td>0.041529</td>\n",
       "      <td>-0.000874</td>\n",
       "      <td>0.088009</td>\n",
       "      <td>-0.113639</td>\n",
       "      <td>-0.063737</td>\n",
       "      <td>-0.057526</td>\n",
       "      <td>-0.046323</td>\n",
       "      <td>-0.040828</td>\n",
       "      <td>-0.032926</td>\n",
       "      <td>-0.032304</td>\n",
       "      <td>-0.028342</td>\n",
       "      <td>-0.025412</td>\n",
       "      <td>1.000000</td>\n",
       "      <td>-0.013642</td>\n",
       "      <td>-0.008606</td>\n",
       "    </tr>\n",
       "    <tr>\n",
       "      <th>musical</th>\n",
       "      <td>0.031110</td>\n",
       "      <td>NaN</td>\n",
       "      <td>-0.067965</td>\n",
       "      <td>-0.082477</td>\n",
       "      <td>-0.033996</td>\n",
       "      <td>-0.035211</td>\n",
       "      <td>-0.070001</td>\n",
       "      <td>-0.039261</td>\n",
       "      <td>-0.035436</td>\n",
       "      <td>-0.028535</td>\n",
       "      <td>-0.025150</td>\n",
       "      <td>-0.020282</td>\n",
       "      <td>-0.019899</td>\n",
       "      <td>-0.017458</td>\n",
       "      <td>-0.015654</td>\n",
       "      <td>-0.013642</td>\n",
       "      <td>1.000000</td>\n",
       "      <td>-0.005301</td>\n",
       "    </tr>\n",
       "    <tr>\n",
       "      <th>suspense</th>\n",
       "      <td>0.035617</td>\n",
       "      <td>-0.017602</td>\n",
       "      <td>0.006032</td>\n",
       "      <td>-0.014017</td>\n",
       "      <td>-0.016716</td>\n",
       "      <td>-0.019807</td>\n",
       "      <td>-0.044161</td>\n",
       "      <td>-0.024769</td>\n",
       "      <td>-0.022355</td>\n",
       "      <td>-0.018001</td>\n",
       "      <td>-0.015866</td>\n",
       "      <td>-0.012795</td>\n",
       "      <td>-0.012554</td>\n",
       "      <td>-0.011014</td>\n",
       "      <td>-0.009875</td>\n",
       "      <td>-0.008606</td>\n",
       "      <td>-0.005301</td>\n",
       "      <td>1.000000</td>\n",
       "    </tr>\n",
       "  </tbody>\n",
       "</table>\n",
       "</div>"
      ],
      "text/plain": [
       "                    time  dir_prev_bfnum  dir_prev_num  num_staff  num_actor  \\\n",
       "time            1.000000        0.264675      0.306727   0.623205   0.114153   \n",
       "dir_prev_bfnum  0.264675        1.000000      0.131822   0.323521   0.083818   \n",
       "dir_prev_num    0.306727        0.131822      1.000000   0.450706   0.014006   \n",
       "num_staff       0.623205        0.323521      0.450706   1.000000   0.077871   \n",
       "num_actor       0.114153        0.083818      0.014006   0.077871   1.000000   \n",
       "box_off_num     0.441452        0.283184      0.259674   0.544265   0.111179   \n",
       "drama           0.159977       -0.085041     -0.040161   0.061664  -0.018618   \n",
       "docu           -0.303400       -0.137352     -0.173434  -0.344846  -0.076703   \n",
       "romance        -0.090262        0.035086      0.036129  -0.035817  -0.046865   \n",
       "comedy          0.075757        0.114415      0.057303   0.108996   0.131034   \n",
       "horror         -0.009848        0.004758      0.050714   0.041874   0.019558   \n",
       "action          0.166415        0.068835      0.183462   0.249187  -0.009006   \n",
       "noir            0.174151        0.007810      0.077037   0.209779  -0.010128   \n",
       "ani            -0.192651       -0.034003     -0.133530  -0.122539   0.152677   \n",
       "mystery         0.016289       -0.017048      0.051792  -0.034835  -0.057575   \n",
       "sf              0.004290        0.076652      0.054248   0.041529  -0.000874   \n",
       "musical         0.031110             NaN     -0.067965  -0.082477  -0.033996   \n",
       "suspense        0.035617       -0.017602      0.006032  -0.014017  -0.016716   \n",
       "\n",
       "                box_off_num     drama      docu   romance    comedy    horror  \\\n",
       "time               0.441452  0.159977 -0.303400 -0.090262  0.075757 -0.009848   \n",
       "dir_prev_bfnum     0.283184 -0.085041 -0.137352  0.035086  0.114415  0.004758   \n",
       "dir_prev_num       0.259674 -0.040161 -0.173434  0.036129  0.057303  0.050714   \n",
       "num_staff          0.544265  0.061664 -0.344846 -0.035817  0.108996  0.041874   \n",
       "num_actor          0.111179 -0.018618 -0.076703 -0.046865  0.131034  0.019558   \n",
       "box_off_num        1.000000 -0.034488 -0.150310 -0.059728  0.082780 -0.017627   \n",
       "drama             -0.034488  1.000000 -0.327050 -0.295181 -0.237695 -0.209500   \n",
       "docu              -0.150310 -0.327050  1.000000 -0.165558 -0.133316 -0.117502   \n",
       "romance           -0.059728 -0.295181 -0.165558  1.000000 -0.120325 -0.106052   \n",
       "comedy             0.082780 -0.237695 -0.133316 -0.120325  1.000000 -0.085399   \n",
       "horror            -0.017627 -0.209500 -0.117502 -0.106052 -0.085399  1.000000   \n",
       "action             0.181191 -0.168950 -0.094759 -0.085525 -0.068869 -0.060700   \n",
       "noir               0.184869 -0.165761 -0.092970 -0.083911 -0.067569 -0.059554   \n",
       "ani               -0.054872 -0.145428 -0.081566 -0.073618 -0.059281 -0.052249   \n",
       "mystery           -0.016888 -0.130397 -0.073135 -0.066009 -0.053154 -0.046849   \n",
       "sf                 0.088009 -0.113639 -0.063737 -0.057526 -0.046323 -0.040828   \n",
       "musical           -0.035211 -0.070001 -0.039261 -0.035436 -0.028535 -0.025150   \n",
       "suspense          -0.019807 -0.044161 -0.024769 -0.022355 -0.018001 -0.015866   \n",
       "\n",
       "                  action      noir       ani   mystery        sf   musical  \\\n",
       "time            0.166415  0.174151 -0.192651  0.016289  0.004290  0.031110   \n",
       "dir_prev_bfnum  0.068835  0.007810 -0.034003 -0.017048  0.076652       NaN   \n",
       "dir_prev_num    0.183462  0.077037 -0.133530  0.051792  0.054248 -0.067965   \n",
       "num_staff       0.249187  0.209779 -0.122539 -0.034835  0.041529 -0.082477   \n",
       "num_actor      -0.009006 -0.010128  0.152677 -0.057575 -0.000874 -0.033996   \n",
       "box_off_num     0.181191  0.184869 -0.054872 -0.016888  0.088009 -0.035211   \n",
       "drama          -0.168950 -0.165761 -0.145428 -0.130397 -0.113639 -0.070001   \n",
       "docu           -0.094759 -0.092970 -0.081566 -0.073135 -0.063737 -0.039261   \n",
       "romance        -0.085525 -0.083911 -0.073618 -0.066009 -0.057526 -0.035436   \n",
       "comedy         -0.068869 -0.067569 -0.059281 -0.053154 -0.046323 -0.028535   \n",
       "horror         -0.060700 -0.059554 -0.052249 -0.046849 -0.040828 -0.025150   \n",
       "action          1.000000 -0.048027 -0.042136 -0.037781 -0.032926 -0.020282   \n",
       "noir           -0.048027  1.000000 -0.041340 -0.037068 -0.032304 -0.019899   \n",
       "ani            -0.042136 -0.041340  1.000000 -0.032521 -0.028342 -0.017458   \n",
       "mystery        -0.037781 -0.037068 -0.032521  1.000000 -0.025412 -0.015654   \n",
       "sf             -0.032926 -0.032304 -0.028342 -0.025412  1.000000 -0.013642   \n",
       "musical        -0.020282 -0.019899 -0.017458 -0.015654 -0.013642  1.000000   \n",
       "suspense       -0.012795 -0.012554 -0.011014 -0.009875 -0.008606 -0.005301   \n",
       "\n",
       "                suspense  \n",
       "time            0.035617  \n",
       "dir_prev_bfnum -0.017602  \n",
       "dir_prev_num    0.006032  \n",
       "num_staff      -0.014017  \n",
       "num_actor      -0.016716  \n",
       "box_off_num    -0.019807  \n",
       "drama          -0.044161  \n",
       "docu           -0.024769  \n",
       "romance        -0.022355  \n",
       "comedy         -0.018001  \n",
       "horror         -0.015866  \n",
       "action         -0.012795  \n",
       "noir           -0.012554  \n",
       "ani            -0.011014  \n",
       "mystery        -0.009875  \n",
       "sf             -0.008606  \n",
       "musical        -0.005301  \n",
       "suspense        1.000000  "
      ]
     },
     "execution_count": 307,
     "metadata": {},
     "output_type": "execute_result"
    }
   ],
   "source": [
    "temp_train.corr()"
   ]
  },
  {
   "cell_type": "markdown",
   "metadata": {},
   "source": [
    "대체로 상관관계가 없으나 다큐멘터리와 액션, 누아르 장르와는 약한 상관관계가 존재했다. 다큐멘터리는 -0.15, 액션과 누아르는 0.18이다.  \n",
    "따라서 docu, action, noir 변수만 활용하기로 했다."
   ]
  },
  {
   "cell_type": "markdown",
   "metadata": {},
   "source": [
    "&nbsp;"
   ]
  },
  {
   "cell_type": "markdown",
   "metadata": {},
   "source": [
    "&nbsp;"
   ]
  },
  {
   "cell_type": "markdown",
   "metadata": {},
   "source": [
    "> ## distributor(배급사)"
   ]
  },
  {
   "cell_type": "code",
   "execution_count": 308,
   "metadata": {},
   "outputs": [
    {
     "data": {
      "text/plain": [
       "CJ 엔터테인먼트    54\n",
       "롯데엔터테인먼트     52\n",
       "(주)NEW       30\n",
       "(주)마운틴픽쳐스    29\n",
       "(주)쇼박스       26\n",
       "             ..\n",
       "(주)온비즈넷       1\n",
       "두 엔터테인먼트      1\n",
       "싸이더스 FNH      1\n",
       "(주)두타연        1\n",
       "보람엔터테인먼트      1\n",
       "Name: distributor, Length: 169, dtype: int64"
      ]
     },
     "execution_count": 308,
     "metadata": {},
     "output_type": "execute_result"
    }
   ],
   "source": [
    "movies_train.distributor.value_counts()"
   ]
  },
  {
   "cell_type": "markdown",
   "metadata": {},
   "source": [
    "배급사의 경우는 종류가 너무 많기 때문에 one-hot encoding을 할경우 차원이 너무 증가하게됨"
   ]
  },
  {
   "cell_type": "markdown",
   "metadata": {},
   "source": [
    "따라서 배급사는 배급사의 규모나 인지도 등을 통해 구간을 나누어 새로운 파생변수를 생성해주는 방법을 고려했으나 외부데이터를 사용해도 되는지의 불확실성이 있음"
   ]
  },
  {
   "cell_type": "markdown",
   "metadata": {},
   "source": [
    "일단 보류"
   ]
  },
  {
   "cell_type": "markdown",
   "metadata": {},
   "source": [
    "> ## director(감독)"
   ]
  },
  {
   "cell_type": "code",
   "execution_count": 309,
   "metadata": {},
   "outputs": [
    {
     "data": {
      "text/plain": [
       "홍상수    7\n",
       "전규환    4\n",
       "우민호    4\n",
       "장률     4\n",
       "노진수    4\n",
       "      ..\n",
       "김재한    1\n",
       "권혁만    1\n",
       "양병간    1\n",
       "김병준    1\n",
       "김선     1\n",
       "Name: director, Length: 472, dtype: int64"
      ]
     },
     "execution_count": 309,
     "metadata": {},
     "output_type": "execute_result"
    }
   ],
   "source": [
    "movies_train.director.value_counts()"
   ]
  },
  {
   "cell_type": "code",
   "execution_count": 310,
   "metadata": {},
   "outputs": [
    {
     "data": {
      "text/html": [
       "<div>\n",
       "<style scoped>\n",
       "    .dataframe tbody tr th:only-of-type {\n",
       "        vertical-align: middle;\n",
       "    }\n",
       "\n",
       "    .dataframe tbody tr th {\n",
       "        vertical-align: top;\n",
       "    }\n",
       "\n",
       "    .dataframe thead th {\n",
       "        text-align: right;\n",
       "    }\n",
       "</style>\n",
       "<table border=\"1\" class=\"dataframe\">\n",
       "  <thead>\n",
       "    <tr style=\"text-align: right;\">\n",
       "      <th></th>\n",
       "      <th>time</th>\n",
       "      <th>dir_prev_bfnum</th>\n",
       "      <th>dir_prev_num</th>\n",
       "      <th>num_staff</th>\n",
       "      <th>num_actor</th>\n",
       "      <th>box_off_num</th>\n",
       "    </tr>\n",
       "  </thead>\n",
       "  <tbody>\n",
       "    <tr>\n",
       "      <th>time</th>\n",
       "      <td>1.000000</td>\n",
       "      <td>0.264675</td>\n",
       "      <td>0.306727</td>\n",
       "      <td>0.623205</td>\n",
       "      <td>0.114153</td>\n",
       "      <td>0.441452</td>\n",
       "    </tr>\n",
       "    <tr>\n",
       "      <th>dir_prev_bfnum</th>\n",
       "      <td>0.264675</td>\n",
       "      <td>1.000000</td>\n",
       "      <td>0.131822</td>\n",
       "      <td>0.323521</td>\n",
       "      <td>0.083818</td>\n",
       "      <td>0.283184</td>\n",
       "    </tr>\n",
       "    <tr>\n",
       "      <th>dir_prev_num</th>\n",
       "      <td>0.306727</td>\n",
       "      <td>0.131822</td>\n",
       "      <td>1.000000</td>\n",
       "      <td>0.450706</td>\n",
       "      <td>0.014006</td>\n",
       "      <td>0.259674</td>\n",
       "    </tr>\n",
       "    <tr>\n",
       "      <th>num_staff</th>\n",
       "      <td>0.623205</td>\n",
       "      <td>0.323521</td>\n",
       "      <td>0.450706</td>\n",
       "      <td>1.000000</td>\n",
       "      <td>0.077871</td>\n",
       "      <td>0.544265</td>\n",
       "    </tr>\n",
       "    <tr>\n",
       "      <th>num_actor</th>\n",
       "      <td>0.114153</td>\n",
       "      <td>0.083818</td>\n",
       "      <td>0.014006</td>\n",
       "      <td>0.077871</td>\n",
       "      <td>1.000000</td>\n",
       "      <td>0.111179</td>\n",
       "    </tr>\n",
       "    <tr>\n",
       "      <th>box_off_num</th>\n",
       "      <td>0.441452</td>\n",
       "      <td>0.283184</td>\n",
       "      <td>0.259674</td>\n",
       "      <td>0.544265</td>\n",
       "      <td>0.111179</td>\n",
       "      <td>1.000000</td>\n",
       "    </tr>\n",
       "  </tbody>\n",
       "</table>\n",
       "</div>"
      ],
      "text/plain": [
       "                    time  dir_prev_bfnum  dir_prev_num  num_staff  num_actor  \\\n",
       "time            1.000000        0.264675      0.306727   0.623205   0.114153   \n",
       "dir_prev_bfnum  0.264675        1.000000      0.131822   0.323521   0.083818   \n",
       "dir_prev_num    0.306727        0.131822      1.000000   0.450706   0.014006   \n",
       "num_staff       0.623205        0.323521      0.450706   1.000000   0.077871   \n",
       "num_actor       0.114153        0.083818      0.014006   0.077871   1.000000   \n",
       "box_off_num     0.441452        0.283184      0.259674   0.544265   0.111179   \n",
       "\n",
       "                box_off_num  \n",
       "time               0.441452  \n",
       "dir_prev_bfnum     0.283184  \n",
       "dir_prev_num       0.259674  \n",
       "num_staff          0.544265  \n",
       "num_actor          0.111179  \n",
       "box_off_num        1.000000  "
      ]
     },
     "execution_count": 310,
     "metadata": {},
     "output_type": "execute_result"
    }
   ],
   "source": [
    "movies_train.corr()"
   ]
  },
  {
   "cell_type": "markdown",
   "metadata": {},
   "source": [
    "감독 데이터는 dir_prev_bfnum과 dir_prev_num으로 데이터를 살릴 수 있기 때문에 따로 감독명을 변수화 시켜야 할 필요성을 못느낌"
   ]
  },
  {
   "cell_type": "markdown",
   "metadata": {},
   "source": [
    "확실히 개봉 전 감독의 관객 수나 작품 수가 해당 영화의 관객 수와 양의 상관관계가 있음"
   ]
  },
  {
   "cell_type": "markdown",
   "metadata": {},
   "source": [
    "&nbsp;"
   ]
  },
  {
   "cell_type": "markdown",
   "metadata": {},
   "source": [
    "&nbsp;"
   ]
  },
  {
   "cell_type": "markdown",
   "metadata": {},
   "source": [
    "> ## release time(개봉일)"
   ]
  },
  {
   "cell_type": "markdown",
   "metadata": {},
   "source": [
    "movies 데이터는 개봉일 데이터가 있으나 시간의 흐름에 따른 영화 관객수의 변화를 살펴볼 수가 없음.  \n",
    "하지만 개봉일 데이터를 활용해보기위해 개봉일에서 month(월) 데이터만 추출해서 독립변수로 활용해보기로 함"
   ]
  },
  {
   "cell_type": "markdown",
   "metadata": {},
   "source": [
    "### 우선 플랏을 그려봄"
   ]
  },
  {
   "cell_type": "code",
   "execution_count": 311,
   "metadata": {},
   "outputs": [],
   "source": [
    "temp_train = movies_train.copy()\n",
    "\n",
    "temp_train.release_time = pd.to_datetime(temp_train.release_time)  # 기존의 상영일 데이터를 시계열 피처로 변환\n",
    "\n",
    "temp_train.index = temp_train.release_time          #데이터셋의 인덱스를 시계열 데이터로 지정\n",
    "\n",
    "temp_train_1 = temp_train.iloc[:,11]"
   ]
  },
  {
   "cell_type": "code",
   "execution_count": 312,
   "metadata": {},
   "outputs": [
    {
     "data": {
      "image/png": "[encoded data removed]",
      "text/plain": [
       "<Figure size 1008x720 with 1 Axes>"
      ]
     },
     "metadata": {
      "needs_background": "light"
     },
     "output_type": "display_data"
    }
   ],
   "source": [
    "plt.figure(figsize=(14, 10))\n",
    "\n",
    "temp_train_1.plot()\n",
    "plt.show()"
   ]
  },
  {
   "cell_type": "markdown",
   "metadata": {},
   "source": [
    "이렇게 봤을때는 어느 시즌에 관객수가 튀는지 알기 어렵고 데이터 특성상 특정 영화의 관람객이 많은 것일 수도 있음"
   ]
  },
  {
   "cell_type": "markdown",
   "metadata": {},
   "source": [
    "&nbsp;"
   ]
  },
  {
   "cell_type": "markdown",
   "metadata": {},
   "source": [
    "**이제 월만 추출**"
   ]
  },
  {
   "cell_type": "code",
   "execution_count": 313,
   "metadata": {},
   "outputs": [],
   "source": [
    "temp_train = movies_train.copy()\n",
    "\n",
    "temp_train.release_time = pd.to_datetime(temp_train.release_time) "
   ]
  },
  {
   "cell_type": "code",
   "execution_count": 314,
   "metadata": {},
   "outputs": [],
   "source": [
    "temp_train.release_time = temp_train.release_time.dt.month"
   ]
  },
  {
   "cell_type": "markdown",
   "metadata": {},
   "source": [
    "월별 평균 관객수 계산"
   ]
  },
  {
   "cell_type": "code",
   "execution_count": 315,
   "metadata": {},
   "outputs": [],
   "source": [
    "group = temp_train.box_off_num.groupby(temp_train.release_time)"
   ]
  },
  {
   "cell_type": "code",
   "execution_count": 316,
   "metadata": {},
   "outputs": [
    {
     "data": {
      "text/plain": [
       "<AxesSubplot:xlabel='release_time'>"
      ]
     },
     "execution_count": 316,
     "metadata": {},
     "output_type": "execute_result"
    },
    {
     "data": {
      "image/png": "[encoded data removed]",
      "text/plain": [
       "<Figure size 1008x720 with 1 Axes>"
      ]
     },
     "metadata": {
      "needs_background": "light"
     },
     "output_type": "display_data"
    }
   ],
   "source": [
    "plt.figure(figsize=(14, 10))\n",
    "\n",
    "group.mean().plot()"
   ]
  },
  {
   "cell_type": "markdown",
   "metadata": {},
   "source": [
    "연말, 연초에 관객이 많고 7,8월 여름 시즌에 대체로 관객 수가 많음을 알 수 있다."
   ]
  },
  {
   "cell_type": "markdown",
   "metadata": {},
   "source": [
    "**따라서 새롭게 12,1,7,8월에 개봉한 데이터를 성수기 개봉 데이터로 만들어 독립변수를 활용할 예정**"
   ]
  },
  {
   "cell_type": "code",
   "execution_count": 317,
   "metadata": {},
   "outputs": [],
   "source": [
    "peak_season = list(np.repeat(0,len(temp_train)))                            #one-hot encoding\n",
    "\n",
    "for i in range(len(temp_train)):\n",
    "    if temp_train.release_time[i] in (1,7,8,12)  :\n",
    "        peak_season[i] = 1"
   ]
  },
  {
   "cell_type": "code",
   "execution_count": 318,
   "metadata": {},
   "outputs": [],
   "source": [
    "temp_train['peak_season'] = peak_season"
   ]
  },
  {
   "cell_type": "code",
   "execution_count": 319,
   "metadata": {},
   "outputs": [
    {
     "data": {
      "text/html": [
       "<div>\n",
       "<style scoped>\n",
       "    .dataframe tbody tr th:only-of-type {\n",
       "        vertical-align: middle;\n",
       "    }\n",
       "\n",
       "    .dataframe tbody tr th {\n",
       "        vertical-align: top;\n",
       "    }\n",
       "\n",
       "    .dataframe thead th {\n",
       "        text-align: right;\n",
       "    }\n",
       "</style>\n",
       "<table border=\"1\" class=\"dataframe\">\n",
       "  <thead>\n",
       "    <tr style=\"text-align: right;\">\n",
       "      <th></th>\n",
       "      <th>release_time</th>\n",
       "      <th>time</th>\n",
       "      <th>dir_prev_bfnum</th>\n",
       "      <th>dir_prev_num</th>\n",
       "      <th>num_staff</th>\n",
       "      <th>num_actor</th>\n",
       "      <th>box_off_num</th>\n",
       "      <th>peak_season</th>\n",
       "    </tr>\n",
       "  </thead>\n",
       "  <tbody>\n",
       "    <tr>\n",
       "      <th>release_time</th>\n",
       "      <td>1.000000</td>\n",
       "      <td>-0.023969</td>\n",
       "      <td>0.064117</td>\n",
       "      <td>0.034019</td>\n",
       "      <td>-0.002841</td>\n",
       "      <td>-0.015063</td>\n",
       "      <td>0.019104</td>\n",
       "      <td>0.067163</td>\n",
       "    </tr>\n",
       "    <tr>\n",
       "      <th>time</th>\n",
       "      <td>-0.023969</td>\n",
       "      <td>1.000000</td>\n",
       "      <td>0.264675</td>\n",
       "      <td>0.306727</td>\n",
       "      <td>0.623205</td>\n",
       "      <td>0.114153</td>\n",
       "      <td>0.441452</td>\n",
       "      <td>0.038972</td>\n",
       "    </tr>\n",
       "    <tr>\n",
       "      <th>dir_prev_bfnum</th>\n",
       "      <td>0.064117</td>\n",
       "      <td>0.264675</td>\n",
       "      <td>1.000000</td>\n",
       "      <td>0.131822</td>\n",
       "      <td>0.323521</td>\n",
       "      <td>0.083818</td>\n",
       "      <td>0.283184</td>\n",
       "      <td>0.073847</td>\n",
       "    </tr>\n",
       "    <tr>\n",
       "      <th>dir_prev_num</th>\n",
       "      <td>0.034019</td>\n",
       "      <td>0.306727</td>\n",
       "      <td>0.131822</td>\n",
       "      <td>1.000000</td>\n",
       "      <td>0.450706</td>\n",
       "      <td>0.014006</td>\n",
       "      <td>0.259674</td>\n",
       "      <td>0.023206</td>\n",
       "    </tr>\n",
       "    <tr>\n",
       "      <th>num_staff</th>\n",
       "      <td>-0.002841</td>\n",
       "      <td>0.623205</td>\n",
       "      <td>0.323521</td>\n",
       "      <td>0.450706</td>\n",
       "      <td>1.000000</td>\n",
       "      <td>0.077871</td>\n",
       "      <td>0.544265</td>\n",
       "      <td>0.089697</td>\n",
       "    </tr>\n",
       "    <tr>\n",
       "      <th>num_actor</th>\n",
       "      <td>-0.015063</td>\n",
       "      <td>0.114153</td>\n",
       "      <td>0.083818</td>\n",
       "      <td>0.014006</td>\n",
       "      <td>0.077871</td>\n",
       "      <td>1.000000</td>\n",
       "      <td>0.111179</td>\n",
       "      <td>0.057462</td>\n",
       "    </tr>\n",
       "    <tr>\n",
       "      <th>box_off_num</th>\n",
       "      <td>0.019104</td>\n",
       "      <td>0.441452</td>\n",
       "      <td>0.283184</td>\n",
       "      <td>0.259674</td>\n",
       "      <td>0.544265</td>\n",
       "      <td>0.111179</td>\n",
       "      <td>1.000000</td>\n",
       "      <td>0.179194</td>\n",
       "    </tr>\n",
       "    <tr>\n",
       "      <th>peak_season</th>\n",
       "      <td>0.067163</td>\n",
       "      <td>0.038972</td>\n",
       "      <td>0.073847</td>\n",
       "      <td>0.023206</td>\n",
       "      <td>0.089697</td>\n",
       "      <td>0.057462</td>\n",
       "      <td>0.179194</td>\n",
       "      <td>1.000000</td>\n",
       "    </tr>\n",
       "  </tbody>\n",
       "</table>\n",
       "</div>"
      ],
      "text/plain": [
       "                release_time      time  dir_prev_bfnum  dir_prev_num  \\\n",
       "release_time        1.000000 -0.023969        0.064117      0.034019   \n",
       "time               -0.023969  1.000000        0.264675      0.306727   \n",
       "dir_prev_bfnum      0.064117  0.264675        1.000000      0.131822   \n",
       "dir_prev_num        0.034019  0.306727        0.131822      1.000000   \n",
       "num_staff          -0.002841  0.623205        0.323521      0.450706   \n",
       "num_actor          -0.015063  0.114153        0.083818      0.014006   \n",
       "box_off_num         0.019104  0.441452        0.283184      0.259674   \n",
       "peak_season         0.067163  0.038972        0.073847      0.023206   \n",
       "\n",
       "                num_staff  num_actor  box_off_num  peak_season  \n",
       "release_time    -0.002841  -0.015063     0.019104     0.067163  \n",
       "time             0.623205   0.114153     0.441452     0.038972  \n",
       "dir_prev_bfnum   0.323521   0.083818     0.283184     0.073847  \n",
       "dir_prev_num     0.450706   0.014006     0.259674     0.023206  \n",
       "num_staff        1.000000   0.077871     0.544265     0.089697  \n",
       "num_actor        0.077871   1.000000     0.111179     0.057462  \n",
       "box_off_num      0.544265   0.111179     1.000000     0.179194  \n",
       "peak_season      0.089697   0.057462     0.179194     1.000000  "
      ]
     },
     "execution_count": 319,
     "metadata": {},
     "output_type": "execute_result"
    }
   ],
   "source": [
    "temp_train.corr()"
   ]
  },
  {
   "cell_type": "markdown",
   "metadata": {},
   "source": [
    "*상관계수는 0.17, 나쁘지 않음*"
   ]
  },
  {
   "cell_type": "markdown",
   "metadata": {},
   "source": [
    "&nbsp;"
   ]
  },
  {
   "cell_type": "markdown",
   "metadata": {},
   "source": [
    "&nbsp;"
   ]
  },
  {
   "cell_type": "markdown",
   "metadata": {},
   "source": [
    "&nbsp;"
   ]
  },
  {
   "cell_type": "markdown",
   "metadata": {},
   "source": [
    "##  최종 데이터셋 생성"
   ]
  },
  {
   "cell_type": "code",
   "execution_count": 320,
   "metadata": {},
   "outputs": [],
   "source": [
    "final_train = movies_train.copy()"
   ]
  },
  {
   "cell_type": "markdown",
   "metadata": {},
   "source": [
    "#### 변수추가"
   ]
  },
  {
   "cell_type": "code",
   "execution_count": 321,
   "metadata": {},
   "outputs": [],
   "source": [
    "#상영등급 데이터 추가\n",
    "final_train['view_all'] = view_all                       \n",
    "final_train['view_12'] = view_12\n",
    "final_train['view_15'] = view_15\n",
    "final_train['view_adult'] = view_adult\n",
    "\n",
    "#장르 변수 추가\n",
    "final_train['drama'] = drama\n",
    "final_train['docu'] = docu\n",
    "final_train['romance'] = romance\n",
    "final_train['comedy'] = comedy\n",
    "final_train['horror'] = horror\n",
    "final_train['action'] = action\n",
    "final_train['noir'] = noir\n",
    "final_train['ani'] = ani\n",
    "final_train['mystery'] = mystery\n",
    "final_train['sf'] = sf\n",
    "final_train['musical'] = musical\n",
    "final_train['suspense'] = suspense\n"
   ]
  },
  {
   "cell_type": "code",
   "execution_count": 322,
   "metadata": {},
   "outputs": [],
   "source": [
    "#개봉일 -> 개봉월로 변환\n",
    "final_train.release_time = pd.to_datetime(final_train.release_time)\n",
    "final_train.release_time = final_train.release_time.dt.month"
   ]
  },
  {
   "cell_type": "markdown",
   "metadata": {},
   "source": [
    "&nbsp;"
   ]
  },
  {
   "cell_type": "markdown",
   "metadata": {},
   "source": [
    "#### 기존 변수 제거"
   ]
  },
  {
   "cell_type": "code",
   "execution_count": 323,
   "metadata": {},
   "outputs": [],
   "source": [
    "features = ['release_time', 'time','dir_prev_bfnum','dir_prev_num','num_staff',\n",
    "           'num_actor','box_off_num','view_all','view_12','view_15','view_adult','drama','docu','romance','comedy',\n",
    "           'horror','action','noir','ani','mystery','sf','musical','suspense']"
   ]
  },
  {
   "cell_type": "code",
   "execution_count": 324,
   "metadata": {},
   "outputs": [],
   "source": [
    "final_train = final_train[features]"
   ]
  },
  {
   "cell_type": "code",
   "execution_count": 325,
   "metadata": {},
   "outputs": [
    {
     "name": "stdout",
     "output_type": "stream",
     "text": [
      "<class 'pandas.core.frame.DataFrame'>\n",
      "RangeIndex: 600 entries, 0 to 599\n",
      "Data columns (total 23 columns):\n",
      " #   Column          Non-Null Count  Dtype  \n",
      "---  ------          --------------  -----  \n",
      " 0   release_time    600 non-null    int64  \n",
      " 1   time            600 non-null    int64  \n",
      " 2   dir_prev_bfnum  270 non-null    float64\n",
      " 3   dir_prev_num    600 non-null    int64  \n",
      " 4   num_staff       600 non-null    int64  \n",
      " 5   num_actor       600 non-null    int64  \n",
      " 6   box_off_num     600 non-null    int64  \n",
      " 7   view_all        600 non-null    int64  \n",
      " 8   view_12         600 non-null    int64  \n",
      " 9   view_15         600 non-null    int64  \n",
      " 10  view_adult      600 non-null    int64  \n",
      " 11  drama           600 non-null    int64  \n",
      " 12  docu            600 non-null    int64  \n",
      " 13  romance         600 non-null    int64  \n",
      " 14  comedy          600 non-null    int64  \n",
      " 15  horror          600 non-null    int64  \n",
      " 16  action          600 non-null    int64  \n",
      " 17  noir            600 non-null    int64  \n",
      " 18  ani             600 non-null    int64  \n",
      " 19  mystery         600 non-null    int64  \n",
      " 20  sf              600 non-null    int64  \n",
      " 21  musical         600 non-null    int64  \n",
      " 22  suspense        600 non-null    int64  \n",
      "dtypes: float64(1), int64(22)\n",
      "memory usage: 107.9 KB\n"
     ]
    }
   ],
   "source": [
    "final_train.info()"
   ]
  },
  {
   "cell_type": "markdown",
   "metadata": {},
   "source": [
    "&nbsp;"
   ]
  },
  {
   "cell_type": "markdown",
   "metadata": {},
   "source": [
    "#### 결측값 처리"
   ]
  },
  {
   "cell_type": "code",
   "execution_count": 326,
   "metadata": {},
   "outputs": [
    {
     "data": {
      "text/plain": [
       "release_time        0\n",
       "time                0\n",
       "dir_prev_bfnum    330\n",
       "dir_prev_num        0\n",
       "num_staff           0\n",
       "num_actor           0\n",
       "box_off_num         0\n",
       "view_all            0\n",
       "view_12             0\n",
       "view_15             0\n",
       "view_adult          0\n",
       "drama               0\n",
       "docu                0\n",
       "romance             0\n",
       "comedy              0\n",
       "horror              0\n",
       "action              0\n",
       "noir                0\n",
       "ani                 0\n",
       "mystery             0\n",
       "sf                  0\n",
       "musical             0\n",
       "suspense            0\n",
       "dtype: int64"
      ]
     },
     "execution_count": 326,
     "metadata": {},
     "output_type": "execute_result"
    }
   ],
   "source": [
    "final_train.isna().sum()\n"
   ]
  },
  {
   "cell_type": "markdown",
   "metadata": {},
   "source": [
    "영화 제작 전 해당 감독이 참여한 영화의 평균 관객수 데이터(dir_prev_bfnum)는 결측값이 너무 많아 사용하지 않기로 했다."
   ]
  },
  {
   "cell_type": "code",
   "execution_count": 327,
   "metadata": {},
   "outputs": [],
   "source": [
    "features = ['release_time', 'time','dir_prev_num','num_staff',\n",
    "           'num_actor','box_off_num','view_all','view_12','view_15','view_adult','drama','docu','romance','comedy',\n",
    "           'horror','action','noir','ani','mystery','sf','musical','suspense']\n",
    "\n",
    "final_train = final_train[features]"
   ]
  },
  {
   "cell_type": "markdown",
   "metadata": {},
   "source": [
    "&nbsp;"
   ]
  },
  {
   "cell_type": "markdown",
   "metadata": {},
   "source": [
    "## Min-Max scaler로 변수 스케일링"
   ]
  },
  {
   "cell_type": "code",
   "execution_count": 328,
   "metadata": {},
   "outputs": [],
   "source": [
    "features_sc = ['release_time', 'time','dir_prev_num','num_staff',\n",
    "           'num_actor','view_all','view_12','view_15','view_adult','drama','docu','romance','comedy',\n",
    "           'horror','action','noir','ani','mystery','sf','musical','suspense']"
   ]
  },
  {
   "cell_type": "code",
   "execution_count": 329,
   "metadata": {},
   "outputs": [],
   "source": [
    "final_train.loc[:,features_sc] = scaler.fit_transform(final_train.loc[:,features_sc])"
   ]
  },
  {
   "cell_type": "code",
   "execution_count": 330,
   "metadata": {},
   "outputs": [
    {
     "data": {
      "text/html": [
       "<div>\n",
       "<style scoped>\n",
       "    .dataframe tbody tr th:only-of-type {\n",
       "        vertical-align: middle;\n",
       "    }\n",
       "\n",
       "    .dataframe tbody tr th {\n",
       "        vertical-align: top;\n",
       "    }\n",
       "\n",
       "    .dataframe thead th {\n",
       "        text-align: right;\n",
       "    }\n",
       "</style>\n",
       "<table border=\"1\" class=\"dataframe\">\n",
       "  <thead>\n",
       "    <tr style=\"text-align: right;\">\n",
       "      <th></th>\n",
       "      <th>release_time</th>\n",
       "      <th>time</th>\n",
       "      <th>dir_prev_num</th>\n",
       "      <th>num_staff</th>\n",
       "      <th>num_actor</th>\n",
       "      <th>box_off_num</th>\n",
       "      <th>view_all</th>\n",
       "      <th>view_12</th>\n",
       "      <th>view_15</th>\n",
       "      <th>view_adult</th>\n",
       "      <th>...</th>\n",
       "      <th>romance</th>\n",
       "      <th>comedy</th>\n",
       "      <th>horror</th>\n",
       "      <th>action</th>\n",
       "      <th>noir</th>\n",
       "      <th>ani</th>\n",
       "      <th>mystery</th>\n",
       "      <th>sf</th>\n",
       "      <th>musical</th>\n",
       "      <th>suspense</th>\n",
       "    </tr>\n",
       "  </thead>\n",
       "  <tbody>\n",
       "    <tr>\n",
       "      <th>0</th>\n",
       "      <td>0.909091</td>\n",
       "      <td>0.377778</td>\n",
       "      <td>0.0</td>\n",
       "      <td>0.104718</td>\n",
       "      <td>0.08</td>\n",
       "      <td>23398</td>\n",
       "      <td>0.0</td>\n",
       "      <td>0.0</td>\n",
       "      <td>0.0</td>\n",
       "      <td>1.0</td>\n",
       "      <td>...</td>\n",
       "      <td>0.0</td>\n",
       "      <td>0.0</td>\n",
       "      <td>0.0</td>\n",
       "      <td>1.0</td>\n",
       "      <td>0.0</td>\n",
       "      <td>0.0</td>\n",
       "      <td>0.0</td>\n",
       "      <td>0.0</td>\n",
       "      <td>0.0</td>\n",
       "      <td>0.0</td>\n",
       "    </tr>\n",
       "    <tr>\n",
       "      <th>1</th>\n",
       "      <td>0.909091</td>\n",
       "      <td>0.629630</td>\n",
       "      <td>0.4</td>\n",
       "      <td>0.445339</td>\n",
       "      <td>0.12</td>\n",
       "      <td>7072501</td>\n",
       "      <td>0.0</td>\n",
       "      <td>0.0</td>\n",
       "      <td>0.0</td>\n",
       "      <td>1.0</td>\n",
       "      <td>...</td>\n",
       "      <td>0.0</td>\n",
       "      <td>0.0</td>\n",
       "      <td>0.0</td>\n",
       "      <td>0.0</td>\n",
       "      <td>1.0</td>\n",
       "      <td>0.0</td>\n",
       "      <td>0.0</td>\n",
       "      <td>0.0</td>\n",
       "      <td>0.0</td>\n",
       "      <td>0.0</td>\n",
       "    </tr>\n",
       "    <tr>\n",
       "      <th>2</th>\n",
       "      <td>0.454545</td>\n",
       "      <td>0.577778</td>\n",
       "      <td>0.8</td>\n",
       "      <td>0.394707</td>\n",
       "      <td>0.16</td>\n",
       "      <td>6959083</td>\n",
       "      <td>0.0</td>\n",
       "      <td>0.0</td>\n",
       "      <td>1.0</td>\n",
       "      <td>0.0</td>\n",
       "      <td>...</td>\n",
       "      <td>0.0</td>\n",
       "      <td>0.0</td>\n",
       "      <td>0.0</td>\n",
       "      <td>1.0</td>\n",
       "      <td>0.0</td>\n",
       "      <td>0.0</td>\n",
       "      <td>0.0</td>\n",
       "      <td>0.0</td>\n",
       "      <td>0.0</td>\n",
       "      <td>0.0</td>\n",
       "    </tr>\n",
       "    <tr>\n",
       "      <th>3</th>\n",
       "      <td>0.545455</td>\n",
       "      <td>0.414815</td>\n",
       "      <td>0.4</td>\n",
       "      <td>0.023015</td>\n",
       "      <td>0.24</td>\n",
       "      <td>217866</td>\n",
       "      <td>1.0</td>\n",
       "      <td>0.0</td>\n",
       "      <td>0.0</td>\n",
       "      <td>0.0</td>\n",
       "      <td>...</td>\n",
       "      <td>0.0</td>\n",
       "      <td>1.0</td>\n",
       "      <td>0.0</td>\n",
       "      <td>0.0</td>\n",
       "      <td>0.0</td>\n",
       "      <td>0.0</td>\n",
       "      <td>0.0</td>\n",
       "      <td>0.0</td>\n",
       "      <td>0.0</td>\n",
       "      <td>0.0</td>\n",
       "    </tr>\n",
       "    <tr>\n",
       "      <th>4</th>\n",
       "      <td>0.909091</td>\n",
       "      <td>0.466667</td>\n",
       "      <td>0.2</td>\n",
       "      <td>0.288838</td>\n",
       "      <td>0.08</td>\n",
       "      <td>483387</td>\n",
       "      <td>0.0</td>\n",
       "      <td>0.0</td>\n",
       "      <td>1.0</td>\n",
       "      <td>0.0</td>\n",
       "      <td>...</td>\n",
       "      <td>0.0</td>\n",
       "      <td>1.0</td>\n",
       "      <td>0.0</td>\n",
       "      <td>0.0</td>\n",
       "      <td>0.0</td>\n",
       "      <td>0.0</td>\n",
       "      <td>0.0</td>\n",
       "      <td>0.0</td>\n",
       "      <td>0.0</td>\n",
       "      <td>0.0</td>\n",
       "    </tr>\n",
       "    <tr>\n",
       "      <th>...</th>\n",
       "      <td>...</td>\n",
       "      <td>...</td>\n",
       "      <td>...</td>\n",
       "      <td>...</td>\n",
       "      <td>...</td>\n",
       "      <td>...</td>\n",
       "      <td>...</td>\n",
       "      <td>...</td>\n",
       "      <td>...</td>\n",
       "      <td>...</td>\n",
       "      <td>...</td>\n",
       "      <td>...</td>\n",
       "      <td>...</td>\n",
       "      <td>...</td>\n",
       "      <td>...</td>\n",
       "      <td>...</td>\n",
       "      <td>...</td>\n",
       "      <td>...</td>\n",
       "      <td>...</td>\n",
       "      <td>...</td>\n",
       "      <td>...</td>\n",
       "    </tr>\n",
       "    <tr>\n",
       "      <th>595</th>\n",
       "      <td>0.636364</td>\n",
       "      <td>0.488889</td>\n",
       "      <td>0.2</td>\n",
       "      <td>0.586881</td>\n",
       "      <td>0.28</td>\n",
       "      <td>1475091</td>\n",
       "      <td>0.0</td>\n",
       "      <td>0.0</td>\n",
       "      <td>0.0</td>\n",
       "      <td>1.0</td>\n",
       "      <td>...</td>\n",
       "      <td>0.0</td>\n",
       "      <td>0.0</td>\n",
       "      <td>0.0</td>\n",
       "      <td>0.0</td>\n",
       "      <td>0.0</td>\n",
       "      <td>0.0</td>\n",
       "      <td>0.0</td>\n",
       "      <td>0.0</td>\n",
       "      <td>0.0</td>\n",
       "      <td>0.0</td>\n",
       "    </tr>\n",
       "    <tr>\n",
       "      <th>596</th>\n",
       "      <td>0.181818</td>\n",
       "      <td>0.607407</td>\n",
       "      <td>0.2</td>\n",
       "      <td>0.329114</td>\n",
       "      <td>0.24</td>\n",
       "      <td>1716438</td>\n",
       "      <td>0.0</td>\n",
       "      <td>0.0</td>\n",
       "      <td>1.0</td>\n",
       "      <td>0.0</td>\n",
       "      <td>...</td>\n",
       "      <td>0.0</td>\n",
       "      <td>0.0</td>\n",
       "      <td>0.0</td>\n",
       "      <td>0.0</td>\n",
       "      <td>0.0</td>\n",
       "      <td>0.0</td>\n",
       "      <td>0.0</td>\n",
       "      <td>0.0</td>\n",
       "      <td>0.0</td>\n",
       "      <td>0.0</td>\n",
       "    </tr>\n",
       "    <tr>\n",
       "      <th>597</th>\n",
       "      <td>0.727273</td>\n",
       "      <td>0.400000</td>\n",
       "      <td>0.0</td>\n",
       "      <td>0.141542</td>\n",
       "      <td>0.16</td>\n",
       "      <td>2475</td>\n",
       "      <td>0.0</td>\n",
       "      <td>0.0</td>\n",
       "      <td>0.0</td>\n",
       "      <td>1.0</td>\n",
       "      <td>...</td>\n",
       "      <td>0.0</td>\n",
       "      <td>0.0</td>\n",
       "      <td>1.0</td>\n",
       "      <td>0.0</td>\n",
       "      <td>0.0</td>\n",
       "      <td>0.0</td>\n",
       "      <td>0.0</td>\n",
       "      <td>0.0</td>\n",
       "      <td>0.0</td>\n",
       "      <td>0.0</td>\n",
       "    </tr>\n",
       "    <tr>\n",
       "      <th>598</th>\n",
       "      <td>0.363636</td>\n",
       "      <td>0.422222</td>\n",
       "      <td>0.0</td>\n",
       "      <td>0.495972</td>\n",
       "      <td>0.16</td>\n",
       "      <td>2192525</td>\n",
       "      <td>0.0</td>\n",
       "      <td>0.0</td>\n",
       "      <td>1.0</td>\n",
       "      <td>0.0</td>\n",
       "      <td>...</td>\n",
       "      <td>0.0</td>\n",
       "      <td>0.0</td>\n",
       "      <td>0.0</td>\n",
       "      <td>0.0</td>\n",
       "      <td>1.0</td>\n",
       "      <td>0.0</td>\n",
       "      <td>0.0</td>\n",
       "      <td>0.0</td>\n",
       "      <td>0.0</td>\n",
       "      <td>0.0</td>\n",
       "    </tr>\n",
       "    <tr>\n",
       "      <th>599</th>\n",
       "      <td>0.000000</td>\n",
       "      <td>0.555556</td>\n",
       "      <td>0.0</td>\n",
       "      <td>0.417722</td>\n",
       "      <td>0.20</td>\n",
       "      <td>7166532</td>\n",
       "      <td>0.0</td>\n",
       "      <td>0.0</td>\n",
       "      <td>1.0</td>\n",
       "      <td>0.0</td>\n",
       "      <td>...</td>\n",
       "      <td>0.0</td>\n",
       "      <td>0.0</td>\n",
       "      <td>0.0</td>\n",
       "      <td>1.0</td>\n",
       "      <td>0.0</td>\n",
       "      <td>0.0</td>\n",
       "      <td>0.0</td>\n",
       "      <td>0.0</td>\n",
       "      <td>0.0</td>\n",
       "      <td>0.0</td>\n",
       "    </tr>\n",
       "  </tbody>\n",
       "</table>\n",
       "<p>600 rows × 22 columns</p>\n",
       "</div>"
      ],
      "text/plain": [
       "     release_time      time  dir_prev_num  num_staff  num_actor  box_off_num  \\\n",
       "0        0.909091  0.377778           0.0   0.104718       0.08        23398   \n",
       "1        0.909091  0.629630           0.4   0.445339       0.12      7072501   \n",
       "2        0.454545  0.577778           0.8   0.394707       0.16      6959083   \n",
       "3        0.545455  0.414815           0.4   0.023015       0.24       217866   \n",
       "4        0.909091  0.466667           0.2   0.288838       0.08       483387   \n",
       "..            ...       ...           ...        ...        ...          ...   \n",
       "595      0.636364  0.488889           0.2   0.586881       0.28      1475091   \n",
       "596      0.181818  0.607407           0.2   0.329114       0.24      1716438   \n",
       "597      0.727273  0.400000           0.0   0.141542       0.16         2475   \n",
       "598      0.363636  0.422222           0.0   0.495972       0.16      2192525   \n",
       "599      0.000000  0.555556           0.0   0.417722       0.20      7166532   \n",
       "\n",
       "     view_all  view_12  view_15  view_adult  ...  romance  comedy  horror  \\\n",
       "0         0.0      0.0      0.0         1.0  ...      0.0     0.0     0.0   \n",
       "1         0.0      0.0      0.0         1.0  ...      0.0     0.0     0.0   \n",
       "2         0.0      0.0      1.0         0.0  ...      0.0     0.0     0.0   \n",
       "3         1.0      0.0      0.0         0.0  ...      0.0     1.0     0.0   \n",
       "4         0.0      0.0      1.0         0.0  ...      0.0     1.0     0.0   \n",
       "..        ...      ...      ...         ...  ...      ...     ...     ...   \n",
       "595       0.0      0.0      0.0         1.0  ...      0.0     0.0     0.0   \n",
       "596       0.0      0.0      1.0         0.0  ...      0.0     0.0     0.0   \n",
       "597       0.0      0.0      0.0         1.0  ...      0.0     0.0     1.0   \n",
       "598       0.0      0.0      1.0         0.0  ...      0.0     0.0     0.0   \n",
       "599       0.0      0.0      1.0         0.0  ...      0.0     0.0     0.0   \n",
       "\n",
       "     action  noir  ani  mystery   sf  musical  suspense  \n",
       "0       1.0   0.0  0.0      0.0  0.0      0.0       0.0  \n",
       "1       0.0   1.0  0.0      0.0  0.0      0.0       0.0  \n",
       "2       1.0   0.0  0.0      0.0  0.0      0.0       0.0  \n",
       "3       0.0   0.0  0.0      0.0  0.0      0.0       0.0  \n",
       "4       0.0   0.0  0.0      0.0  0.0      0.0       0.0  \n",
       "..      ...   ...  ...      ...  ...      ...       ...  \n",
       "595     0.0   0.0  0.0      0.0  0.0      0.0       0.0  \n",
       "596     0.0   0.0  0.0      0.0  0.0      0.0       0.0  \n",
       "597     0.0   0.0  0.0      0.0  0.0      0.0       0.0  \n",
       "598     0.0   1.0  0.0      0.0  0.0      0.0       0.0  \n",
       "599     1.0   0.0  0.0      0.0  0.0      0.0       0.0  \n",
       "\n",
       "[600 rows x 22 columns]"
      ]
     },
     "execution_count": 330,
     "metadata": {},
     "output_type": "execute_result"
    }
   ],
   "source": [
    "final_train"
   ]
  },
  {
   "cell_type": "markdown",
   "metadata": {},
   "source": [
    "&nbsp;"
   ]
  },
  {
   "cell_type": "markdown",
   "metadata": {},
   "source": [
    "## train, vaildation data set 분할"
   ]
  },
  {
   "cell_type": "code",
   "execution_count": 331,
   "metadata": {},
   "outputs": [],
   "source": [
    "X_features = ['release_time', 'time','dir_prev_num','num_staff',\n",
    "           'num_actor','view_all','view_12','view_15','view_adult','drama','docu','romance','comedy',\n",
    "           'horror','action','noir','ani','mystery','sf','musical','suspense']\n",
    "\n",
    "X = final_train[X_features]\n",
    "Y = final_train.box_off_num"
   ]
  },
  {
   "cell_type": "code",
   "execution_count": 332,
   "metadata": {},
   "outputs": [],
   "source": [
    "X_train, X_valid, Y_train, Y_valid = train_test_split(X, Y, test_size=0.3,shuffle=False, random_state=seed)"
   ]
  },
  {
   "cell_type": "markdown",
   "metadata": {},
   "source": [
    "&nbsp;"
   ]
  },
  {
   "cell_type": "markdown",
   "metadata": {},
   "source": [
    "&nbsp;"
   ]
  },
  {
   "cell_type": "markdown",
   "metadata": {},
   "source": [
    "&nbsp;"
   ]
  },
  {
   "cell_type": "markdown",
   "metadata": {},
   "source": [
    "&nbsp;"
   ]
  },
  {
   "cell_type": "markdown",
   "metadata": {},
   "source": [
    "# 모델링"
   ]
  },
  {
   "cell_type": "markdown",
   "metadata": {},
   "source": [
    "#### 필요 library 및 함수정의"
   ]
  },
  {
   "cell_type": "code",
   "execution_count": 182,
   "metadata": {},
   "outputs": [
    {
     "name": "stdout",
     "output_type": "stream",
     "text": [
      "Collecting keras\n",
      "  Downloading Keras-2.4.3-py2.py3-none-any.whl (36 kB)\n",
      "Requirement already satisfied: h5py in c:\\rhxod\\anaconda3\\lib\\site-packages (from keras) (2.10.0)\n",
      "Requirement already satisfied: numpy>=1.9.1 in c:\\rhxod\\anaconda3\\lib\\site-packages (from keras) (1.19.2)\n",
      "Requirement already satisfied: pyyaml in c:\\rhxod\\anaconda3\\lib\\site-packages (from keras) (5.3.1)\n",
      "Requirement already satisfied: scipy>=0.14 in c:\\rhxod\\anaconda3\\lib\\site-packages (from keras) (1.5.2)\n",
      "Requirement already satisfied: six in c:\\rhxod\\anaconda3\\lib\\site-packages (from h5py->keras) (1.15.0)\n",
      "Installing collected packages: keras\n",
      "Successfully installed keras-2.4.3\n",
      "Note: you may need to restart the kernel to use updated packages.\n"
     ]
    }
   ],
   "source": [
    "pip install keras"
   ]
  },
  {
   "cell_type": "code",
   "execution_count": 184,
   "metadata": {},
   "outputs": [
    {
     "name": "stdout",
     "output_type": "stream",
     "text": [
      "Collecting tensorflow\n",
      "  Downloading tensorflow-2.4.1-cp38-cp38-win_amd64.whl (370.7 MB)\n",
      "Collecting gast==0.3.3\n",
      "  Downloading gast-0.3.3-py2.py3-none-any.whl (9.7 kB)\n",
      "Collecting termcolor~=1.1.0\n",
      "  Downloading termcolor-1.1.0.tar.gz (3.9 kB)\n",
      "Collecting absl-py~=0.10\n",
      "  Downloading absl_py-0.12.0-py3-none-any.whl (129 kB)\n",
      "Collecting tensorboard~=2.4\n",
      "  Downloading tensorboard-2.5.0-py3-none-any.whl (6.0 MB)\n",
      "Requirement already satisfied: typing-extensions~=3.7.4 in c:\\rhxod\\anaconda3\\lib\\site-packages (from tensorflow) (3.7.4.3)\n",
      "Requirement already satisfied: numpy~=1.19.2 in c:\\rhxod\\anaconda3\\lib\\site-packages (from tensorflow) (1.19.2)\n",
      "Collecting protobuf>=3.9.2\n",
      "  Downloading protobuf-3.15.8-py2.py3-none-any.whl (173 kB)\n",
      "Collecting wrapt~=1.12.1\n",
      "  Downloading wrapt-1.12.1.tar.gz (27 kB)\n",
      "Collecting flatbuffers~=1.12.0\n",
      "  Downloading flatbuffers-1.12-py2.py3-none-any.whl (15 kB)\n",
      "Collecting tensorflow-estimator<2.5.0,>=2.4.0\n",
      "  Downloading tensorflow_estimator-2.4.0-py2.py3-none-any.whl (462 kB)\n",
      "Collecting keras-preprocessing~=1.1.2\n",
      "  Downloading Keras_Preprocessing-1.1.2-py2.py3-none-any.whl (42 kB)\n",
      "Collecting opt-einsum~=3.3.0\n",
      "  Downloading opt_einsum-3.3.0-py3-none-any.whl (65 kB)\n",
      "Collecting google-pasta~=0.2\n",
      "  Downloading google_pasta-0.2.0-py3-none-any.whl (57 kB)\n",
      "Requirement already satisfied: h5py~=2.10.0 in c:\\rhxod\\anaconda3\\lib\\site-packages (from tensorflow) (2.10.0)\n",
      "Collecting grpcio~=1.32.0\n",
      "  Downloading grpcio-1.32.0-cp38-cp38-win_amd64.whl (2.6 MB)\n",
      "Requirement already satisfied: wheel~=0.35 in c:\\rhxod\\anaconda3\\lib\\site-packages (from tensorflow) (0.35.1)\n",
      "Requirement already satisfied: six~=1.15.0 in c:\\rhxod\\anaconda3\\lib\\site-packages (from tensorflow) (1.15.0)\n",
      "Collecting astunparse~=1.6.3\n",
      "  Downloading astunparse-1.6.3-py2.py3-none-any.whl (12 kB)\n",
      "Collecting google-auth-oauthlib<0.5,>=0.4.1\n",
      "  Downloading google_auth_oauthlib-0.4.4-py2.py3-none-any.whl (18 kB)\n",
      "Collecting tensorboard-data-server<0.7.0,>=0.6.0\n",
      "  Downloading tensorboard_data_server-0.6.0-py3-none-any.whl (2.3 kB)\n",
      "Requirement already satisfied: werkzeug>=0.11.15 in c:\\rhxod\\anaconda3\\lib\\site-packages (from tensorboard~=2.4->tensorflow) (1.0.1)\n",
      "Collecting tensorboard-plugin-wit>=1.6.0\n",
      "  Downloading tensorboard_plugin_wit-1.8.0-py3-none-any.whl (781 kB)\n",
      "Requirement already satisfied: setuptools>=41.0.0 in c:\\rhxod\\anaconda3\\lib\\site-packages (from tensorboard~=2.4->tensorflow) (50.3.1.post20201107)\n",
      "Requirement already satisfied: requests<3,>=2.21.0 in c:\\rhxod\\anaconda3\\lib\\site-packages (from tensorboard~=2.4->tensorflow) (2.24.0)\n",
      "Collecting google-auth<2,>=1.6.3\n",
      "  Downloading google_auth-1.29.0-py2.py3-none-any.whl (142 kB)\n",
      "Collecting markdown>=2.6.8\n",
      "  Downloading Markdown-3.3.4-py3-none-any.whl (97 kB)\n",
      "Collecting requests-oauthlib>=0.7.0\n",
      "  Downloading requests_oauthlib-1.3.0-py2.py3-none-any.whl (23 kB)\n",
      "Requirement already satisfied: certifi>=2017.4.17 in c:\\rhxod\\anaconda3\\lib\\site-packages (from requests<3,>=2.21.0->tensorboard~=2.4->tensorflow) (2020.6.20)\n",
      "Requirement already satisfied: urllib3!=1.25.0,!=1.25.1,<1.26,>=1.21.1 in c:\\rhxod\\anaconda3\\lib\\site-packages (from requests<3,>=2.21.0->tensorboard~=2.4->tensorflow) (1.25.11)\n",
      "Requirement already satisfied: idna<3,>=2.5 in c:\\rhxod\\anaconda3\\lib\\site-packages (from requests<3,>=2.21.0->tensorboard~=2.4->tensorflow) (2.10)\n",
      "Requirement already satisfied: chardet<4,>=3.0.2 in c:\\rhxod\\anaconda3\\lib\\site-packages (from requests<3,>=2.21.0->tensorboard~=2.4->tensorflow) (3.0.4)\n",
      "Collecting rsa<5,>=3.1.4; python_version >= \"3.6\"\n",
      "  Downloading rsa-4.7.2-py3-none-any.whl (34 kB)\n",
      "Collecting pyasn1-modules>=0.2.1\n",
      "  Downloading pyasn1_modules-0.2.8-py2.py3-none-any.whl (155 kB)\n",
      "Collecting cachetools<5.0,>=2.0.0\n",
      "  Downloading cachetools-4.2.1-py3-none-any.whl (12 kB)\n",
      "Collecting oauthlib>=3.0.0\n",
      "  Downloading oauthlib-3.1.0-py2.py3-none-any.whl (147 kB)\n",
      "Collecting pyasn1>=0.1.3\n",
      "  Downloading pyasn1-0.4.8-py2.py3-none-any.whl (77 kB)\n",
      "Building wheels for collected packages: termcolor, wrapt\n",
      "  Building wheel for termcolor (setup.py): started\n",
      "  Building wheel for termcolor (setup.py): finished with status 'done'\n",
      "  Created wheel for termcolor: filename=termcolor-1.1.0-py3-none-any.whl size=4835 sha256=5ed2d77f1bb8351cb18b0837cc4634eac222fb8a800f8dd24df17af0c8b6839a\n",
      "  Stored in directory: c:\\users\\고태영\\appdata\\local\\pip\\cache\\wheels\\a0\\16\\9c\\5473df82468f958445479c59e784896fa24f4a5fc024b0f501\n",
      "  Building wheel for wrapt (setup.py): started\n",
      "  Building wheel for wrapt (setup.py): finished with status 'done'\n",
      "  Created wheel for wrapt: filename=wrapt-1.12.1-py3-none-any.whl size=19558 sha256=3a27e713a6375fd6facfde9009e0ada0d54ebd86012f737e5978a3c4a01bc2a9\n",
      "  Stored in directory: c:\\users\\고태영\\appdata\\local\\pip\\cache\\wheels\\5f\\fd\\9e\\b6cf5890494cb8ef0b5eaff72e5d55a70fb56316007d6dfe73\n",
      "Successfully built termcolor wrapt\n",
      "Installing collected packages: gast, termcolor, absl-py, pyasn1, rsa, pyasn1-modules, cachetools, google-auth, oauthlib, requests-oauthlib, google-auth-oauthlib, tensorboard-data-server, protobuf, grpcio, tensorboard-plugin-wit, markdown, tensorboard, wrapt, flatbuffers, tensorflow-estimator, keras-preprocessing, opt-einsum, google-pasta, astunparse, tensorflow\n",
      "  Attempting uninstall: wrapt\n",
      "    Found existing installation: wrapt 1.11.2\n",
      "    Uninstalling wrapt-1.11.2:\n",
      "      Successfully uninstalled wrapt-1.11.2\n",
      "Successfully installed absl-py-0.12.0 astunparse-1.6.3 cachetools-4.2.1 flatbuffers-1.12 gast-0.3.3 google-auth-1.29.0 google-auth-oauthlib-0.4.4 google-pasta-0.2.0 grpcio-1.32.0 keras-preprocessing-1.1.2 markdown-3.3.4 oauthlib-3.1.0 opt-einsum-3.3.0 protobuf-3.15.8 pyasn1-0.4.8 pyasn1-modules-0.2.8 requests-oauthlib-1.3.0 rsa-4.7.2 tensorboard-2.5.0 tensorboard-data-server-0.6.0 tensorboard-plugin-wit-1.8.0 tensorflow-2.4.1 tensorflow-estimator-2.4.0 termcolor-1.1.0 wrapt-1.12.1\n",
      "Note: you may need to restart the kernel to use updated packages.\n"
     ]
    }
   ],
   "source": [
    "pip install tensorflow"
   ]
  },
  {
   "cell_type": "code",
   "execution_count": 185,
   "metadata": {},
   "outputs": [],
   "source": [
    "from sklearn.linear_model import LinearRegression\n",
    "from sklearn.linear_model import Lasso\n",
    "from sklearn.linear_model import Ridge\n",
    "from sklearn.linear_model import ElasticNet\n",
    "from sklearn.neighbors import KNeighborsRegressor\n",
    "from sklearn.tree import DecisionTreeRegressor\n",
    "from sklearn.ensemble import GradientBoostingRegressor\n",
    "from sklearn.ensemble import AdaBoostRegressor\n",
    "from sklearn.ensemble import BaggingRegressor\n",
    "\n",
    "import keras.models\n",
    "import keras.layers\n",
    "import tensorflow as tf"
   ]
  },
  {
   "cell_type": "code",
   "execution_count": 172,
   "metadata": {},
   "outputs": [],
   "source": [
    "k_fold = KFold(n_splits=5, shuffle=True, random_state=2021)"
   ]
  },
  {
   "cell_type": "code",
   "execution_count": 173,
   "metadata": {},
   "outputs": [],
   "source": [
    "from sklearn.metrics import make_scorer\n",
    "\n",
    "\n",
    "def RMSE(pred, y):\n",
    "    rmse = ( np.sum([x**2 for x in (np.array(y)-np.array(pred))]) / len(y) )**(1/2)\n",
    "    return round(rmse, 4)\n",
    "    \n",
    "def MAE(pred, y):\n",
    "    mae = np.sum([np.abs(x) for x in (np.array(y)-np.array(pred))]) / len(y)\n",
    "    return round(mae, 4)\n",
    "\n",
    "\n",
    "rmse_scorer = make_scorer(RMSE)\n",
    "mae_scorer = make_scorer(MAE)"
   ]
  },
  {
   "cell_type": "markdown",
   "metadata": {},
   "source": [
    "&nbsp;"
   ]
  },
  {
   "cell_type": "markdown",
   "metadata": {},
   "source": [
    "### 랜덤포레스트"
   ]
  },
  {
   "cell_type": "code",
   "execution_count": 193,
   "metadata": {},
   "outputs": [],
   "source": [
    "seed = 20163045"
   ]
  },
  {
   "cell_type": "code",
   "execution_count": 333,
   "metadata": {},
   "outputs": [
    {
     "name": "stdout",
     "output_type": "stream",
     "text": [
      "rmse: score=1527669.39720\n",
      "mae: score=681812.36480\n"
     ]
    }
   ],
   "source": [
    "rf = RandomForestRegressor(n_estimators = 100, random_state=seed)\n",
    "\n",
    "rmse_score = cross_val_score(rf, X, Y , cv=k_fold, scoring = rmse_scorer)\n",
    "mae_score = cross_val_score(rf, X , Y, cv=k_fold, scoring = mae_scorer)\n",
    "\n",
    "rmse_score = rmse_score.mean()\n",
    "mae_score = mae_score.mean()\n",
    "\n",
    "print('rmse: score={0:.5f}'.format(rmse_score))\n",
    "print('mae: score={0:.5f}'.format(mae_score))"
   ]
  },
  {
   "cell_type": "markdown",
   "metadata": {},
   "source": [
    "### lgbm"
   ]
  },
  {
   "cell_type": "code",
   "execution_count": 334,
   "metadata": {},
   "outputs": [
    {
     "name": "stdout",
     "output_type": "stream",
     "text": [
      "rmse: score=1693276.75332\n",
      "mae: score=803472.30784\n"
     ]
    }
   ],
   "source": [
    "lgbm = LGBMRegressor(num_iterations = 200, random_state=seed)\n",
    "\n",
    "rmse_score = cross_val_score(lgbm, X, Y , cv=k_fold, scoring = rmse_scorer)\n",
    "mae_score = cross_val_score(lgbm, X , Y, cv=k_fold, scoring = mae_scorer)\n",
    "\n",
    "rmse_score = rmse_score.mean()\n",
    "mae_score = mae_score.mean()\n",
    "\n",
    "print('rmse: score={0:.5f}'.format(rmse_score))\n",
    "print('mae: score={0:.5f}'.format(mae_score))"
   ]
  },
  {
   "cell_type": "markdown",
   "metadata": {},
   "source": [
    "### Keras Sequential"
   ]
  },
  {
   "cell_type": "code",
   "execution_count": 335,
   "metadata": {},
   "outputs": [],
   "source": [
    "# activation function 정의: selu function\n",
    "\n",
    "alpha_0_1 = -np.sqrt(2/np.pi) / ( erfc(1/np.sqrt(2)) * np.exp(1/2) -1 )\n",
    "scale_0_1 = ( 1 - erfc(1/np.sqrt(2)) * np.sqrt(np.e)) * np.sqrt(2*np.pi) * ( 2 * erfc(np.sqrt(2))*np.e**2 + \n",
    "                                                                           np.pi*erfc(1/np.sqrt(2))**2*np.e -\n",
    "                                                                           2*(2+np.pi)*erfc(1/np.sqrt(2))*np.sqrt(np.e) +\n",
    "                                                                           np.pi + 2 )**(-1/2)\n",
    "\n",
    "def selu(z, scale = scale_0_1, alpha = alpha_0_1) :\n",
    "    return scale * tf.where(z>=0.0, z, alpha*tf.nn.elu(z))"
   ]
  },
  {
   "cell_type": "code",
   "execution_count": 336,
   "metadata": {},
   "outputs": [],
   "source": [
    "def build_model() :\n",
    "    model = tf.keras.models.Sequential()\n",
    "    model.add(tf.keras.layers.Dense(30, activation=selu, input_shape=(X.shape[1],)))       #input shape 지정\n",
    "    model.add(tf.keras.layers.BatchNormalization())\n",
    "    model.add(tf.keras.layers.Dense(15, activation=selu))                            #활성화 함수로 selu 함수를 사용함\n",
    "    model.add(tf.keras.layers.BatchNormalization())\n",
    "    model.add(tf.keras.layers.Dense(1))                                #하나의 출력값을 출력하기 위해 1개의 노드 사용\n",
    "    opt = tf.compat.v1.train.GradientDescentOptimizer(learning_rate=0.01) #learning rate를 0.01로 하여 경사 하강법 최적화를 실시\n",
    "    model.compile(optimizer=opt, loss='mse', metrics=['mae']) #loss함수로 mse 사용\n",
    "    return model"
   ]
  },
  {
   "cell_type": "code",
   "execution_count": 187,
   "metadata": {},
   "outputs": [],
   "source": [
    "from keras.wrappers.scikit_learn import KerasRegressor"
   ]
  },
  {
   "cell_type": "code",
   "execution_count": 337,
   "metadata": {},
   "outputs": [
    {
     "name": "stdout",
     "output_type": "stream",
     "text": [
      "rmse: score=nan\n",
      "mae: score=nan\n"
     ]
    }
   ],
   "source": [
    "model = KerasRegressor(build_fn=build_model, epochs=150, batch_size=10, verbose=0)   # 반복수 150으로 지정\n",
    "\n",
    "rmse_score = cross_val_score(model, X, Y , cv=k_fold, scoring = rmse_scorer) #5-fold corss validation 실시\n",
    "mae_score = cross_val_score(model, X , Y, cv=k_fold, scoring = mae_scorer)\n",
    "\n",
    "rmse_score = rmse_score.mean()\n",
    "mae_score = mae_score.mean()\n",
    "\n",
    "print('rmse: score={0:.5f}'.format(rmse_score))\n",
    "print('mae: score={0:.5f}'.format(mae_score))"
   ]
  },
  {
   "cell_type": "markdown",
   "metadata": {},
   "source": [
    "&nbsp;"
   ]
  },
  {
   "cell_type": "markdown",
   "metadata": {},
   "source": [
    "> rmse 기준으로 가장 우수한 모델은 딥러닝 알고리즘인 keras sequential, mae 기준으로는 랜덤포레스트임"
   ]
  },
  {
   "cell_type": "markdown",
   "metadata": {},
   "source": [
    "&nbsp;"
   ]
  },
  {
   "cell_type": "markdown",
   "metadata": {},
   "source": [
    "## 성능 개선"
   ]
  },
  {
   "cell_type": "markdown",
   "metadata": {},
   "source": [
    "#### 랜덤포레스트 파라미터 튜닝"
   ]
  },
  {
   "cell_type": "code",
   "execution_count": 338,
   "metadata": {},
   "outputs": [
    {
     "data": {
      "text/plain": [
       "RandomForestRegressor(max_depth=10, min_samples_leaf=7, min_samples_split=9,\n",
       "                      random_state=20163045)"
      ]
     },
     "execution_count": 338,
     "metadata": {},
     "output_type": "execute_result"
    }
   ],
   "source": [
    "params = {'n_estimators': [100, 200, 300, 400, 500],\n",
    "              'max_depth': [2,4,6,8,10],\n",
    "              'min_samples_split': [1,3,5,7,9],\n",
    "              'min_samples_leaf': [1,3,5,7,9]}\n",
    "\n",
    "model = RandomForestRegressor(random_state=seed)\n",
    "    \n",
    "search = RandomizedSearchCV(estimator=model, param_distributions=params, scoring='neg_root_mean_squared_error',\n",
    "                                n_iter=30, cv = 5, n_jobs = 1, random_state=seed)\n",
    "\n",
    "X_train = X_train.to_numpy()\n",
    "\n",
    "search.fit(X_train, Y_train)\n",
    "    \n",
    "\n",
    "model_RF = RandomForestRegressor(n_estimators=search.best_params_['n_estimators'],\n",
    "                                  max_depth=search.best_params_['max_depth'],\n",
    "                                  min_samples_split=search.best_params_['min_samples_split'],\n",
    "                                  min_samples_leaf=search.best_params_['min_samples_leaf'],\n",
    "                                  random_state=seed)\n",
    "model_RF.fit(X_train ,Y_train)"
   ]
  },
  {
   "cell_type": "code",
   "execution_count": 339,
   "metadata": {},
   "outputs": [
    {
     "data": {
      "text/plain": [
       "(1817289.8715, 819572.5452)"
      ]
     },
     "execution_count": 339,
     "metadata": {},
     "output_type": "execute_result"
    }
   ],
   "source": [
    "# valid set rmse / mae\n",
    "\n",
    "valid_rmse_RF = RMSE(y = Y_valid, pred = model_RF.predict(X_valid))\n",
    "valid_mae_RF = MAE(y = Y_valid, pred = model_RF.predict(X_valid))\n",
    "\n",
    "valid_rmse_RF, valid_mae_RF"
   ]
  },
  {
   "cell_type": "code",
   "execution_count": 340,
   "metadata": {},
   "outputs": [
    {
     "name": "stdout",
     "output_type": "stream",
     "text": [
      "rmse: score=1483931.94366\n",
      "mae: score=658595.49576\n"
     ]
    }
   ],
   "source": [
    "rmse_score = cross_val_score(model_RF, X, Y , cv=k_fold, scoring = rmse_scorer)\n",
    "mae_score = cross_val_score(model_RF, X , Y, cv=k_fold, scoring = mae_scorer)\n",
    "\n",
    "rmse_score = rmse_score.mean()\n",
    "mae_score = mae_score.mean()\n",
    "\n",
    "print('rmse: score={0:.5f}'.format(rmse_score))\n",
    "print('mae: score={0:.5f}'.format(mae_score))"
   ]
  },
  {
   "cell_type": "markdown",
   "metadata": {},
   "source": [
    "### 아주 조금 좋아졌음  \n",
    "따라서 최종 모형 선정은 랜덤포레스트로 함"
   ]
  },
  {
   "cell_type": "markdown",
   "metadata": {},
   "source": [
    "&nbsp;"
   ]
  },
  {
   "cell_type": "markdown",
   "metadata": {},
   "source": [
    "## 최종 예측"
   ]
  },
  {
   "cell_type": "code",
   "execution_count": 341,
   "metadata": {},
   "outputs": [
    {
     "data": {
      "text/html": [
       "<div>\n",
       "<style scoped>\n",
       "    .dataframe tbody tr th:only-of-type {\n",
       "        vertical-align: middle;\n",
       "    }\n",
       "\n",
       "    .dataframe tbody tr th {\n",
       "        vertical-align: top;\n",
       "    }\n",
       "\n",
       "    .dataframe thead th {\n",
       "        text-align: right;\n",
       "    }\n",
       "</style>\n",
       "<table border=\"1\" class=\"dataframe\">\n",
       "  <thead>\n",
       "    <tr style=\"text-align: right;\">\n",
       "      <th></th>\n",
       "      <th>title</th>\n",
       "      <th>distributor</th>\n",
       "      <th>genre</th>\n",
       "      <th>release_time</th>\n",
       "      <th>time</th>\n",
       "      <th>screening_rat</th>\n",
       "      <th>director</th>\n",
       "      <th>dir_prev_bfnum</th>\n",
       "      <th>dir_prev_num</th>\n",
       "      <th>num_staff</th>\n",
       "      <th>num_actor</th>\n",
       "    </tr>\n",
       "  </thead>\n",
       "  <tbody>\n",
       "    <tr>\n",
       "      <th>0</th>\n",
       "      <td>용서는 없다</td>\n",
       "      <td>시네마서비스</td>\n",
       "      <td>느와르</td>\n",
       "      <td>2010-01-07</td>\n",
       "      <td>125</td>\n",
       "      <td>청소년 관람불가</td>\n",
       "      <td>김형준</td>\n",
       "      <td>3.005290e+05</td>\n",
       "      <td>2</td>\n",
       "      <td>304</td>\n",
       "      <td>3</td>\n",
       "    </tr>\n",
       "    <tr>\n",
       "      <th>1</th>\n",
       "      <td>아빠가 여자를 좋아해</td>\n",
       "      <td>(주)쇼박스</td>\n",
       "      <td>멜로/로맨스</td>\n",
       "      <td>2010-01-14</td>\n",
       "      <td>113</td>\n",
       "      <td>12세 관람가</td>\n",
       "      <td>이광재</td>\n",
       "      <td>3.427002e+05</td>\n",
       "      <td>4</td>\n",
       "      <td>275</td>\n",
       "      <td>3</td>\n",
       "    </tr>\n",
       "    <tr>\n",
       "      <th>2</th>\n",
       "      <td>하모니</td>\n",
       "      <td>CJ 엔터테인먼트</td>\n",
       "      <td>드라마</td>\n",
       "      <td>2010-01-28</td>\n",
       "      <td>115</td>\n",
       "      <td>12세 관람가</td>\n",
       "      <td>강대규</td>\n",
       "      <td>4.206611e+06</td>\n",
       "      <td>3</td>\n",
       "      <td>419</td>\n",
       "      <td>7</td>\n",
       "    </tr>\n",
       "    <tr>\n",
       "      <th>3</th>\n",
       "      <td>의형제</td>\n",
       "      <td>(주)쇼박스</td>\n",
       "      <td>액션</td>\n",
       "      <td>2010-02-04</td>\n",
       "      <td>116</td>\n",
       "      <td>15세 관람가</td>\n",
       "      <td>장훈</td>\n",
       "      <td>6.913420e+05</td>\n",
       "      <td>2</td>\n",
       "      <td>408</td>\n",
       "      <td>2</td>\n",
       "    </tr>\n",
       "    <tr>\n",
       "      <th>4</th>\n",
       "      <td>평행 이론</td>\n",
       "      <td>CJ 엔터테인먼트</td>\n",
       "      <td>공포</td>\n",
       "      <td>2010-02-18</td>\n",
       "      <td>110</td>\n",
       "      <td>15세 관람가</td>\n",
       "      <td>권호영</td>\n",
       "      <td>3.173800e+04</td>\n",
       "      <td>1</td>\n",
       "      <td>380</td>\n",
       "      <td>1</td>\n",
       "    </tr>\n",
       "  </tbody>\n",
       "</table>\n",
       "</div>"
      ],
      "text/plain": [
       "         title distributor   genre release_time  time screening_rat director  \\\n",
       "0       용서는 없다      시네마서비스     느와르   2010-01-07   125      청소년 관람불가      김형준   \n",
       "1  아빠가 여자를 좋아해      (주)쇼박스  멜로/로맨스   2010-01-14   113       12세 관람가      이광재   \n",
       "2          하모니   CJ 엔터테인먼트     드라마   2010-01-28   115       12세 관람가      강대규   \n",
       "3          의형제      (주)쇼박스      액션   2010-02-04   116       15세 관람가       장훈   \n",
       "4        평행 이론   CJ 엔터테인먼트      공포   2010-02-18   110       15세 관람가      권호영   \n",
       "\n",
       "   dir_prev_bfnum  dir_prev_num  num_staff  num_actor  \n",
       "0    3.005290e+05             2        304          3  \n",
       "1    3.427002e+05             4        275          3  \n",
       "2    4.206611e+06             3        419          7  \n",
       "3    6.913420e+05             2        408          2  \n",
       "4    3.173800e+04             1        380          1  "
      ]
     },
     "execution_count": 341,
     "metadata": {},
     "output_type": "execute_result"
    }
   ],
   "source": [
    "movies_test.head()"
   ]
  },
  {
   "cell_type": "code",
   "execution_count": 342,
   "metadata": {},
   "outputs": [],
   "source": [
    "view_all = list(np.repeat(0,len(movies_test)))                            #one-hot encoding\n",
    "view_12 = list(np.repeat(0,len(movies_test)))\n",
    "view_15 = list(np.repeat(0,len(movies_test)))\n",
    "view_adult = list(np.repeat(0,len(movies_test)))\n",
    "\n",
    "for i in range(len(movies_test)):\n",
    "    if movies_test.screening_rat[i] == '전체 관람가':\n",
    "        view_all[i] = 1\n",
    "    elif movies_test.screening_rat[i] == '12세 관람가':\n",
    "        view_12[i] = 1\n",
    "    elif movies_test.screening_rat[i] == '15세 관람가':\n",
    "        view_15[i] = 1\n",
    "    else:\n",
    "        view_adult[i] = 1\n",
    "\n",
    "movies_test['view_all'] = view_all\n",
    "movies_test['view_12'] = view_12\n",
    "movies_test['view_15'] = view_15\n",
    "movies_test['view_adult'] = view_adult\n",
    "\n",
    "drama = list(np.repeat(0,len(movies_test)))                            #one-hot encoding\n",
    "docu = list(np.repeat(0,len(movies_test)))\n",
    "romance = list(np.repeat(0,len(movies_test)))\n",
    "comedy = list(np.repeat(0,len(movies_test)))\n",
    "horror = list(np.repeat(0,len(movies_test)))                            #one-hot encoding\n",
    "action = list(np.repeat(0,len(movies_test)))\n",
    "noir = list(np.repeat(0,len(movies_test)))\n",
    "ani = list(np.repeat(0,len(movies_test)))\n",
    "mystery = list(np.repeat(0,len(movies_test)))                            #one-hot encoding\n",
    "sf = list(np.repeat(0,len(movies_test)))\n",
    "musical = list(np.repeat(0,len(movies_test)))\n",
    "suspense = list(np.repeat(0,len(movies_test)))\n",
    "\n",
    "\n",
    "for i in range(len(movies_test)):\n",
    "    if movies_test.genre[i] == '드라마':\n",
    "        drama[i] = 1\n",
    "    elif movies_test.genre[i] == '다큐멘터리':\n",
    "        docu[i] = 1\n",
    "    elif movies_test.genre[i] == '멜로/로맨스':\n",
    "        romance[i] = 1\n",
    "    elif movies_test.genre[i] == '코미디':\n",
    "        comedy[i] = 1\n",
    "    elif movies_test.genre[i] == '공포':\n",
    "        horror[i] = 1\n",
    "    elif movies_test.genre[i] == '액션':\n",
    "        action[i] = 1\n",
    "    elif movies_test.genre[i] == '느와르':\n",
    "        noir[i] = 1\n",
    "    elif movies_test.genre[i] == '애니메이션':\n",
    "        ani[i] = 1\n",
    "    elif movies_test.genre[i] == '미스터리':\n",
    "        mystery[i] = 1\n",
    "    elif movies_test.genre[i] == 'SF':\n",
    "        sf[i] = 1\n",
    "    elif movies_test.genre[i] == '뮤지컬':\n",
    "        musical[i] = 1\n",
    "    else :\n",
    "        suspense[i] = 1\n",
    "        \n",
    "\n",
    "movies_test['drama'] = drama\n",
    "movies_test['docu'] = docu\n",
    "movies_test['romance'] = romance\n",
    "movies_test['comedy'] = comedy\n",
    "movies_test['horror'] = horror\n",
    "movies_test['action'] = action\n",
    "movies_test['noir'] = noir\n",
    "movies_test['ani'] = ani\n",
    "movies_test['mystery'] = mystery\n",
    "movies_test['sf'] = sf\n",
    "movies_test['musical'] = musical\n",
    "movies_test['suspense'] = suspense\n",
    "\n",
    "\n",
    "#개봉일 -> 개봉월로 변환\n",
    "movies_test.release_time = pd.to_datetime(movies_test.release_time)\n",
    "movies_test.release_time = movies_test.release_time.dt.month\n",
    "\n",
    "features = ['release_time', 'time','dir_prev_num','num_staff',\n",
    "           'num_actor','view_all','view_12','view_15','view_adult','drama','docu','romance','comedy',\n",
    "           'horror','action','noir','ani','mystery','sf','musical','suspense']\n",
    "\n",
    "movies_test = movies_test[features]\n",
    "\n",
    "movies_test.loc[:,features] = scaler.fit_transform(movies_test.loc[:,features])"
   ]
  },
  {
   "cell_type": "code",
   "execution_count": 353,
   "metadata": {},
   "outputs": [],
   "source": [
    "pred = model_RF.predict(movies_test)\n",
    "\n",
    "data = pd.DataFrame(pred)"
   ]
  },
  {
   "cell_type": "code",
   "execution_count": 357,
   "metadata": {},
   "outputs": [],
   "source": [
    "submission['box_off_num'] = data[0]"
   ]
  },
  {
   "cell_type": "code",
   "execution_count": 359,
   "metadata": {},
   "outputs": [],
   "source": [
    "submission.to_csv('RandomForest.csv', index = False)"
   ]
  }
 ],
 "metadata": {
  "kernelspec": {
   "display_name": "Python 3",
   "language": "python",
   "name": "python3"
  },
  "language_info": {
   "codemirror_mode": {
    "name": "ipython",
    "version": 3
   },
   "file_extension": ".py",
   "mimetype": "text/x-python",
   "name": "python",
   "nbconvert_exporter": "python",
   "pygments_lexer": "ipython3",
   "version": "3.8.5"
  }
 },
 "nbformat": 4,
 "nbformat_minor": 4
}
